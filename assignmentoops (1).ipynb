{
 "cells": [
  {
   "cell_type": "markdown",
   "id": "1271e8a6-b6c4-4745-8d07-3bd385366522",
   "metadata": {},
   "source": [
    "OOPS ASSIGNMENT   "
   ]
  },
  {
   "cell_type": "markdown",
   "id": "f4f79102-814a-4a25-9f0e-3b53f6519357",
   "metadata": {},
   "source": [
    "ans: object in python is the instance of clss like if class is section like bike and object is type of bikes in that section"
   ]
  },
  {
   "cell_type": "code",
   "execution_count": 1,
   "id": "ed77b2ea-5db0-42ee-a1a4-b4b140e2f33b",
   "metadata": {},
   "outputs": [
    {
     "name": "stdout",
     "output_type": "stream",
     "text": [
      "Employee Id : 20001\n",
      "Employee ID : 20002\n"
     ]
    }
   ],
   "source": [
    "# example    \n",
    "\n",
    "\n",
    "class Employee:\n",
    "    employee_id = 0\n",
    "    \n",
    "employee1 = Employee()\n",
    "employee2 = Employee()\n",
    "\n",
    "employee1.employeeID = 20001\n",
    "print(f\"Employee Id : {employee1.employeeID}\")\n",
    "\n",
    "employee2.employeeID = 20002\n",
    "print(f\"Employee ID : {employee2.employeeID}\")\n",
    "    "
   ]
  },
  {
   "cell_type": "code",
   "execution_count": null,
   "id": "1f20a40a-ede3-49d7-98b0-a140ca04f92b",
   "metadata": {},
   "outputs": [],
   "source": []
  },
  {
   "cell_type": "markdown",
   "id": "dc5465b7-de66-4a7a-9a07-e8410304c87a",
   "metadata": {},
   "source": [
    "2. 4 pillar in oops\n",
    "\n",
    "a.INHERITENCE\n",
    "\n",
    "B.POLYMORPHISM\n",
    "\n",
    "C.ENCAPSULATION\n",
    "\n",
    "D.ABSTRACTION"
   ]
  },
  {
   "cell_type": "code",
   "execution_count": null,
   "id": "7a526843-7179-4e5b-b093-afbcdc8cd949",
   "metadata": {},
   "outputs": [],
   "source": []
  },
  {
   "cell_type": "markdown",
   "id": "ac2547fe-f960-46fe-9298-3d908923eed7",
   "metadata": {},
   "source": [
    "3.INIT function is use to store data in a function\n"
   ]
  },
  {
   "cell_type": "code",
   "execution_count": 7,
   "id": "e1f25d4e-c685-42cc-ac0e-904ab839eb38",
   "metadata": {},
   "outputs": [],
   "source": [
    "# example for init function\n",
    "\n",
    "class shiava:\n",
    "    def __init__(self,name,age):\n",
    "        self.name = name\n",
    "        self.age = age\n",
    "        \n",
    "    def details(self):\n",
    "        return (self.name , self.age)\n",
    "        \n",
    "    "
   ]
  },
  {
   "cell_type": "code",
   "execution_count": 10,
   "id": "fcf50adc-3a19-499d-87f2-0288f43936fc",
   "metadata": {},
   "outputs": [
    {
     "data": {
      "text/plain": [
       "('lanka', 55)"
      ]
     },
     "execution_count": 10,
     "metadata": {},
     "output_type": "execute_result"
    }
   ],
   "source": [
    "sh = shiava(\"lanka\" , 55)\n",
    "\n",
    "sh.details()"
   ]
  },
  {
   "cell_type": "code",
   "execution_count": null,
   "id": "5ed541d1-3948-4c89-b5e9-ad7dbc473c7a",
   "metadata": {},
   "outputs": [],
   "source": []
  },
  {
   "cell_type": "markdown",
   "id": "414f301f-a05f-4752-be31-2c1fe83da333",
   "metadata": {},
   "source": [
    "4.Self if instance of class in python by using instance we can acess attributes of class python.\n",
    "\n",
    "it binds attributes with given arguements"
   ]
  },
  {
   "cell_type": "markdown",
   "id": "ff87244f-30bd-4d3c-b709-569def460542",
   "metadata": {},
   "source": [
    "5 .# example of inheritence property\n",
    "\n",
    "inheritence property in python is used to use  property of one class to other to reduce the writing  of extra code \n",
    "\n",
    "by this we can reuse code and it has simple and understandable strucure."
   ]
  },
  {
   "cell_type": "code",
   "execution_count": 15,
   "id": "c1d538e5-891f-4220-a6aa-69f64865a8b5",
   "metadata": {},
   "outputs": [],
   "source": [
    "# inheritence property examples\n",
    "\n",
    "\n",
    "class person:\n",
    "    def __init__(self, name, age):\n",
    "        self.name = name\n",
    "        self.age = age \n",
    "        \n",
    "    def get_name(self):\n",
    "        return (self.name, self.age)\n",
    "    \n",
    "    def is_employee(self):\n",
    "        return True\n",
    "        \n",
    "        \n"
   ]
  },
  {
   "cell_type": "code",
   "execution_count": 16,
   "id": "31300efd-3362-4662-b1e2-55ed70251352",
   "metadata": {},
   "outputs": [],
   "source": [
    "class Employee(person):\n",
    "    def is_employee(self):\n",
    "        return False\n",
    "    \n",
    "    \n",
    "    \n",
    "    "
   ]
  },
  {
   "cell_type": "code",
   "execution_count": 17,
   "id": "29fff8b7-d9a4-4d00-a126-6777e002d98a",
   "metadata": {},
   "outputs": [
    {
     "name": "stdout",
     "output_type": "stream",
     "text": [
      "('shia', 99) True\n",
      "('nagaul', 77) False\n"
     ]
    }
   ],
   "source": [
    "emp = person(\"shia\", 99)\n",
    "\n",
    "print(emp.get_name() , emp.is_employee())\n",
    "\n",
    "\n",
    "emp = Employee(\"nagaul\" , 77)\n",
    "print(emp.get_name() , emp.is_employee())"
   ]
  },
  {
   "cell_type": "code",
   "execution_count": null,
   "id": "71df0462-9052-4318-9e0b-441ac9e4e92d",
   "metadata": {},
   "outputs": [],
   "source": []
  }
 ],
 "metadata": {
  "kernelspec": {
   "display_name": "Python 3 (ipykernel)",
   "language": "python",
   "name": "python3"
  },
  "language_info": {
   "codemirror_mode": {
    "name": "ipython",
    "version": 3
   },
   "file_extension": ".py",
   "mimetype": "text/x-python",
   "name": "python",
   "nbconvert_exporter": "python",
   "pygments_lexer": "ipython3",
   "version": "3.10.8"
  }
 },
 "nbformat": 4,
 "nbformat_minor": 5
}
