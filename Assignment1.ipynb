{
 "cells": [
  {
   "cell_type": "code",
   "execution_count": 1,
   "id": "79310e73-a36c-47d2-afad-01a8f78573a9",
   "metadata": {},
   "outputs": [],
   "source": [
    "# PROBLEM 1\n",
    "\n",
    "\n",
    "# for loop is used when we have to iterate the problem for given number of times\n",
    "\n",
    "#while loop is similar to for-loop but first it checks that  the given condition true or not  if it is true then it will move forward and do the sum if it is not then it wont move forward and struck or break"
   ]
  },
  {
   "cell_type": "code",
   "execution_count": 2,
   "id": "385d7aab-b72d-447b-8c20-9920abbe0e29",
   "metadata": {},
   "outputs": [],
   "source": [
    "import logging"
   ]
  },
  {
   "cell_type": "code",
   "execution_count": 3,
   "id": "b2608eb1-9560-4a8d-bd88-585832b44c45",
   "metadata": {},
   "outputs": [],
   "source": [
    "logging.basicConfig(filename = \"test.txt\", level = logging.DEBUG)"
   ]
  },
  {
   "cell_type": "code",
   "execution_count": 4,
   "id": "f6ce1dd4-209c-4718-a2df-b8486f3d250d",
   "metadata": {},
   "outputs": [],
   "source": [
    "# PROBLEM 2\n",
    "\n",
    "\n",
    "l = [1,2,3,4,5,6,7,8,9,10]"
   ]
  },
  {
   "cell_type": "code",
   "execution_count": 5,
   "id": "4cfbb0d1-7758-4123-80c2-8d21e49a81ff",
   "metadata": {},
   "outputs": [
    {
     "data": {
      "text/plain": [
       "55"
      ]
     },
     "execution_count": 5,
     "metadata": {},
     "output_type": "execute_result"
    }
   ],
   "source": [
    "result = 0\n",
    "\n",
    "for i in l:\n",
    "    result = result + i\n",
    "result\n",
    "    "
   ]
  },
  {
   "cell_type": "code",
   "execution_count": 2,
   "id": "72919cd8-b598-42a2-b20f-f544e863cce3",
   "metadata": {},
   "outputs": [
    {
     "name": "stdin",
     "output_type": "stream",
     "text": [
      "what is the units u have consumed this month 310\n"
     ]
    },
    {
     "name": "stdout",
     "output_type": "stream",
     "text": [
      "TOTAL ELECTRICITY BILL IS 2250.000000\n"
     ]
    }
   ],
   "source": [
    "# PROBLEM 3\n",
    "\n",
    "try:\n",
    "    units = int(input(\"what is the units u have consumed this month\"))\n",
    "    \n",
    "    if(units <= 100):\n",
    "        Amount = units * 4.5\n",
    "        \n",
    "    elif(units <= 200):\n",
    "        Amount = (100 * 4.5) + (units - 100)*6 \n",
    "        \n",
    "    elif(units <= 300):\n",
    "        Amount = (100 *4.5 ) + (200 - 100)* 6 + (units - 200)*10\n",
    "    elif(units >= 300 ):\n",
    "        Amount = (100 * 4.5) + (200 -100)*6 + (300 -200) *10 + (units - 300) *20\n",
    "        \n",
    "    else:\n",
    "        Amount = 0 \n",
    "        units = 0\n",
    "        \n",
    "    Total = Amount ;\n",
    "    print(\"TOTAL ELECTRICITY BILL IS %2f\" %Total)\n",
    "        \n",
    "except Exception as e:\n",
    "    print(e)\n",
    "        \n"
   ]
  },
  {
   "cell_type": "code",
   "execution_count": null,
   "id": "19f0076b-1dc0-4a15-b9a0-b051fcb7c19e",
   "metadata": {},
   "outputs": [],
   "source": []
  },
  {
   "cell_type": "code",
   "execution_count": 6,
   "id": "d2a68660-7c51-48d5-a0f9-b877acabce9c",
   "metadata": {},
   "outputs": [],
   "source": [
    "# PROBLEM 4\n",
    "\n",
    "\n",
    "l1 = list(range(1,100))"
   ]
  },
  {
   "cell_type": "code",
   "execution_count": 7,
   "id": "9ebdedac-b06a-41fd-88e7-bae64bd96554",
   "metadata": {},
   "outputs": [],
   "source": [
    "try:\n",
    "    l2 = []\n",
    "    for i in l1:\n",
    "        if (i%4 == 0 or i%5 == 0):\n",
    "            l2.append(i)\n",
    "        else:\n",
    "            logging.info(\"there is nothing like that\")\n",
    "except Exception as e:\n",
    "    print (e)\n",
    "    \n",
    "           "
   ]
  },
  {
   "cell_type": "code",
   "execution_count": 8,
   "id": "8b3e5169-3fda-479c-a855-6365f9036786",
   "metadata": {},
   "outputs": [
    {
     "data": {
      "text/plain": [
       "[4,\n",
       " 5,\n",
       " 8,\n",
       " 10,\n",
       " 12,\n",
       " 15,\n",
       " 16,\n",
       " 20,\n",
       " 24,\n",
       " 25,\n",
       " 28,\n",
       " 30,\n",
       " 32,\n",
       " 35,\n",
       " 36,\n",
       " 40,\n",
       " 44,\n",
       " 45,\n",
       " 48,\n",
       " 50,\n",
       " 52,\n",
       " 55,\n",
       " 56,\n",
       " 60,\n",
       " 64,\n",
       " 65,\n",
       " 68,\n",
       " 70,\n",
       " 72,\n",
       " 75,\n",
       " 76,\n",
       " 80,\n",
       " 84,\n",
       " 85,\n",
       " 88,\n",
       " 90,\n",
       " 92,\n",
       " 95,\n",
       " 96]"
      ]
     },
     "execution_count": 8,
     "metadata": {},
     "output_type": "execute_result"
    }
   ],
   "source": [
    "l2"
   ]
  },
  {
   "cell_type": "code",
   "execution_count": 17,
   "id": "1e773a09-877f-449d-8404-a01ddf876f26",
   "metadata": {},
   "outputs": [
    {
     "name": "stdout",
     "output_type": "stream",
     "text": [
      "['I', 'a', 'o', 'e', 'o', 'e', 'a', 'a', 'a', 'i', 'e', 'i']\n"
     ]
    }
   ],
   "source": [
    "# PROBLEM 5\n",
    "\n",
    "\n",
    "try:\n",
    "    string = \"I want to become a data scientist\"\n",
    "    \n",
    "    vowels = \"aeiouAEIOU\"\n",
    "    \n",
    "    \n",
    "    l = [v for v in string if v in vowels]\n",
    "    print(l)\n",
    "except Exception as e:\n",
    "    print(e)"
   ]
  },
  {
   "cell_type": "code",
   "execution_count": null,
   "id": "3efb591c-3ab2-4156-8738-bc6d2c800966",
   "metadata": {},
   "outputs": [],
   "source": []
  }
 ],
 "metadata": {
  "kernelspec": {
   "display_name": "Python 3 (ipykernel)",
   "language": "python",
   "name": "python3"
  },
  "language_info": {
   "codemirror_mode": {
    "name": "ipython",
    "version": 3
   },
   "file_extension": ".py",
   "mimetype": "text/x-python",
   "name": "python",
   "nbconvert_exporter": "python",
   "pygments_lexer": "ipython3",
   "version": "3.10.8"
  }
 },
 "nbformat": 4,
 "nbformat_minor": 5
}
