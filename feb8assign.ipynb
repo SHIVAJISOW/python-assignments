{
 "cells": [
  {
   "cell_type": "code",
   "execution_count": 1,
   "id": "ee102a31-307f-4587-8dc6-a20677e2ecde",
   "metadata": {},
   "outputs": [],
   "source": [
    "# Q: what is abstraction\n",
    "# ans:"
   ]
  },
  {
   "cell_type": "code",
   "execution_count": 2,
   "id": "90b7a2cc-34f6-4291-bccc-af509391b44a",
   "metadata": {},
   "outputs": [],
   "source": [
    "# Abstraction is important concept in oops of python. the main work of python is to hide the internal intricacies\n",
    "# of problem and reveal the most essential parts of the problem "
   ]
  },
  {
   "cell_type": "code",
   "execution_count": 3,
   "id": "c5b28fbd-de7b-4930-94c4-0e31a5102249",
   "metadata": {},
   "outputs": [],
   "source": [
    "class Bankaccount:\n",
    "    def __init__(self, initial_balance = 0):\n",
    "        self.balance = initial_balance \n",
    "        \n",
    "    def deposit(self, amount):\n",
    "        self.balance += amount \n",
    "        \n",
    "    def withdraw(self, amount):\n",
    "        if self.balance < amount:\n",
    "            print(\"insufficient balance\")\n",
    "        else:\n",
    "            self.balance -= amount \n",
    "            \n",
    "    def get_balance(self):\n",
    "        return self.balance\n",
    "        \n",
    "            \n",
    "            \n",
    "    "
   ]
  },
  {
   "cell_type": "code",
   "execution_count": 4,
   "id": "065a4263-360e-498a-a1be-76ae10d73c0c",
   "metadata": {},
   "outputs": [],
   "source": [
    "my_account = Bankaccount(1000)"
   ]
  },
  {
   "cell_type": "code",
   "execution_count": 5,
   "id": "4209ef05-2851-489f-9ca0-e2603c799056",
   "metadata": {},
   "outputs": [],
   "source": [
    "my_account.deposit(400)\n",
    "my_account.withdraw(500)"
   ]
  },
  {
   "cell_type": "code",
   "execution_count": 6,
   "id": "52cfd4a2-7122-4899-836c-aee9eaa23841",
   "metadata": {},
   "outputs": [
    {
     "data": {
      "text/plain": [
       "900"
      ]
     },
     "execution_count": 6,
     "metadata": {},
     "output_type": "execute_result"
    }
   ],
   "source": [
    "my_account.get_balance()"
   ]
  },
  {
   "cell_type": "code",
   "execution_count": null,
   "id": "1b84546e-f466-4c52-b2b2-2c4dd467da28",
   "metadata": {},
   "outputs": [],
   "source": []
  },
  {
   "cell_type": "code",
   "execution_count": 7,
   "id": "cd9b6ee5-0fea-4fab-a59c-bb5412e10059",
   "metadata": {},
   "outputs": [],
   "source": [
    "# Question 2\n",
    "# . Differentiate between Abstraction and Encapsulation. Explain with an example"
   ]
  },
  {
   "cell_type": "code",
   "execution_count": 8,
   "id": "84c6060a-8430-4c6c-bba4-982f41e50513",
   "metadata": {},
   "outputs": [],
   "source": [
    "# Abstraction and encapsulation are two different concepts in python. The differences are \n",
    "# a. Abstraction reveals all important details of problem and solution and hides all trivial details\n",
    "# b. encapsulation hides the internal details of an problem or object like colour of car its model etc"
   ]
  },
  {
   "cell_type": "code",
   "execution_count": 9,
   "id": "e56bb15b-aa80-4fc0-a8c0-7c0b540c3ada",
   "metadata": {},
   "outputs": [],
   "source": [
    "# Abstraction throught an abstract class\n",
    "from abc import ABC, abstractmethod"
   ]
  },
  {
   "cell_type": "code",
   "execution_count": 10,
   "id": "b5704ef7-d4ff-4302-a953-5cc3cdefff8a",
   "metadata": {},
   "outputs": [],
   "source": [
    "class Vehicle(ABC):\n",
    "    @abstractmethod\n",
    "    def start(self):\n",
    "        pass \n",
    "    @abstractmethod\n",
    "    def stop(self):\n",
    "        pass \n",
    "    \n",
    "    @abstractmethod\n",
    "    def accelerate(self):\n",
    "        \n",
    "        pass \n",
    "    \n",
    "    \n",
    "    def start(self):\n",
    "        self.__speed = 10\n",
    "        print(\"car has just started so no speed\")\n",
    "        \n",
    "    def stop(self):\n",
    "        self.__speed = 0\n",
    "        print(\"car has just stopped so speed is 0\")\n",
    "        \n",
    "    def accelerate(self):\n",
    "        self.__speed += 10\n",
    "        print(\"car has just accelerated so the speed is know it yourself\")\n",
    "        \n",
    "    def get_speed(self):\n",
    "        return self.__speed\n",
    "        \n",
    "        \n",
    "        \n",
    "        "
   ]
  },
  {
   "cell_type": "code",
   "execution_count": 11,
   "id": "56eb30a2-aa76-4b8c-9d39-0f9fff01a48c",
   "metadata": {},
   "outputs": [],
   "source": [
    "# question 2\n",
    "# What is abc module in python? Why is it used?\n"
   ]
  },
  {
   "cell_type": "code",
   "execution_count": 12,
   "id": "d72bef56-b90d-4cbf-89ea-533f682e350b",
   "metadata": {},
   "outputs": [],
   "source": [
    "# abc Stands for Abstract for classes it provides a way to define classes those classes which cannot be insatiated\n",
    "# but used as subclsses like classes that take properties from other class abc module is used to implement concept \n",
    "# of abstraction which is fundamenta in oops of python \n",
    "# The abc module provides the ABC class and ABC CLASS can be used as base class for defining abstract classes "
   ]
  },
  {
   "cell_type": "code",
   "execution_count": 13,
   "id": "4bd76798-42ee-4501-b201-c5e6335cae98",
   "metadata": {},
   "outputs": [],
   "source": [
    "from abc import ABC, abstractmethod\n",
    "\n",
    "class SHAPE(ABC):\n",
    "    def area(self):\n",
    "        pass\n",
    "    def perimeter(self):\n",
    "        pass \n",
    "        "
   ]
  },
  {
   "cell_type": "code",
   "execution_count": 14,
   "id": "133d72f2-29d9-43a8-aab2-06b26de4f4b7",
   "metadata": {},
   "outputs": [],
   "source": [
    "class Rectangle(SHAPE):\n",
    "    def __init__(self, length, width):\n",
    "        self.length = length\n",
    "        self.width = width\n",
    "        \n",
    "    def area(self):\n",
    "        return self.length * self.width \n",
    "    \n",
    "    def perimeter(self):\n",
    "        return 2 *(self.length + self.width)\n",
    "    \n",
    "    \n",
    "        \n",
    "        \n",
    "        \n",
    "        "
   ]
  },
  {
   "cell_type": "code",
   "execution_count": 15,
   "id": "b3c42e93-4511-4d9a-9269-13da23bc883e",
   "metadata": {},
   "outputs": [
    {
     "data": {
      "text/plain": [
       "451"
      ]
     },
     "execution_count": 15,
     "metadata": {},
     "output_type": "execute_result"
    }
   ],
   "source": [
    "r = Rectangle(11,33)\n",
    "r.area()\n",
    "r.perimeter()\n",
    "m = r.area() + r.perimeter()\n",
    "m"
   ]
  },
  {
   "cell_type": "code",
   "execution_count": 16,
   "id": "e9fc4bcc-74e3-4440-bb4e-d05596e2db92",
   "metadata": {},
   "outputs": [],
   "source": [
    "# Q4. How can we achieve data abstraction?"
   ]
  },
  {
   "cell_type": "code",
   "execution_count": 17,
   "id": "a4e22cff-b041-46f5-8e82-e6efde03da14",
   "metadata": {},
   "outputs": [],
   "source": [
    "# in opps data abstraction can be done by defining abstract classes which give higher overview of problem\n",
    "# without revealing all the details of problem"
   ]
  },
  {
   "cell_type": "code",
   "execution_count": 18,
   "id": "1f6ff090-98f3-4325-88ee-55f7d725535e",
   "metadata": {},
   "outputs": [],
   "source": [
    "from abc import ABC, abstractmethod\n",
    "\n",
    "class Animal(ABC):\n",
    "    @abstractmethod\n",
    "    def make_sound(self):\n",
    "        pass\n",
    "\n"
   ]
  },
  {
   "cell_type": "code",
   "execution_count": null,
   "id": "a3e1adcc-fabd-4253-97ed-14fe607ba0e4",
   "metadata": {},
   "outputs": [],
   "source": []
  },
  {
   "cell_type": "code",
   "execution_count": 19,
   "id": "0fa192b9-7cc1-4442-bed2-f67dd7705490",
   "metadata": {},
   "outputs": [],
   "source": [
    "# \n",
    "# Can we create an instance of an abstract class? Explain your answer.\n",
    "\n",
    "# we cannot create instance in abstract classes they are like skeletons which can be used as template in any body\n",
    "# to make so to make this skeleton itself as body is not valid abstract clases are meant to be used in other "
   ]
  },
  {
   "cell_type": "code",
   "execution_count": 23,
   "id": "1352fbda-b63e-4222-8b24-7906c36beff4",
   "metadata": {},
   "outputs": [],
   "source": [
    "from abc import ABC, abstractmethod\n",
    "\n",
    "class Shape(ABC):\n",
    "    @abstractmethod\n",
    "    def area(self):\n",
    "        pass\n",
    "\n",
    "class Rectangle(Shape):\n",
    "    def area(self):\n",
    "        return 5 * 10\n",
    "\n",
    "r = Rectangle()\n"
   ]
  },
  {
   "cell_type": "code",
   "execution_count": null,
   "id": "019ee340-efa0-49f1-82af-1ceb7a7da47f",
   "metadata": {},
   "outputs": [],
   "source": []
  }
 ],
 "metadata": {
  "kernelspec": {
   "display_name": "Python 3 (ipykernel)",
   "language": "python",
   "name": "python3"
  },
  "language_info": {
   "codemirror_mode": {
    "name": "ipython",
    "version": 3
   },
   "file_extension": ".py",
   "mimetype": "text/x-python",
   "name": "python",
   "nbconvert_exporter": "python",
   "pygments_lexer": "ipython3",
   "version": "3.10.8"
  }
 },
 "nbformat": 4,
 "nbformat_minor": 5
}
