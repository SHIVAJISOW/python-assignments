{
 "cells": [
  {
   "cell_type": "code",
   "execution_count": 1,
   "id": "071705ba-f5af-4eb0-8624-5d356f159c7c",
   "metadata": {},
   "outputs": [],
   "source": [
    "import logging"
   ]
  },
  {
   "cell_type": "code",
   "execution_count": 2,
   "id": "000ab783-48b7-4762-b1fc-a9ee39fd2a43",
   "metadata": {},
   "outputs": [],
   "source": [
    "logging.basicConfig(filename = \"test9.txt\" , level = logging.DEBUG )"
   ]
  },
  {
   "cell_type": "code",
   "execution_count": 3,
   "id": "61a3995d-a15d-4eda-b1fd-d7f37d097dc6",
   "metadata": {},
   "outputs": [],
   "source": [
    "logging.info(\"this is feb6 assigment\")"
   ]
  },
  {
   "cell_type": "code",
   "execution_count": 4,
   "id": "2590b851-f71d-45ff-909c-f24996477453",
   "metadata": {},
   "outputs": [],
   "source": [
    "# this is feb6 assignment"
   ]
  },
  {
   "cell_type": "code",
   "execution_count": 5,
   "id": "d5b64b30-eba5-4053-83ec-82d121490a4c",
   "metadata": {},
   "outputs": [],
   "source": [
    "# question1\n",
    "list1 = [1,2,3,4, [44,55,66, True], False, (34,56,78,89,34), {1,2,3,3,2,1}, {1:34, \"key2\": [55, 67, 78, 89], 4: (45,\n",
    "22, 61, 34)}, [56, 'data science'], 'Machine Learning']"
   ]
  },
  {
   "cell_type": "code",
   "execution_count": 6,
   "id": "6cf06aea-3bb4-49ee-bb83-af60177d08e4",
   "metadata": {},
   "outputs": [],
   "source": [
    "from functools import reduce\n",
    "\n",
    "def product(lst):\n",
    "    flatList = []\n",
    "    for i in lst:\n",
    "        if type(i) == list or type(i) == set or type(i) == tuple :\n",
    "            for j in i :\n",
    "                if type(j) == int:\n",
    "                    flatList.append(j)\n",
    "        elif type(i) == dict:\n",
    "            for a in i.keys():\n",
    "                if type(a) == int:\n",
    "                    flatList.append(a)\n",
    "                    \n",
    "            for b in i.values():\n",
    "                \n",
    "                if type(b) == int:\n",
    "                    flatList.append(b)\n",
    "                if type(b) == list or type(b) == tuple :\n",
    "                    for c in b:\n",
    "                        if type(c) == int:\n",
    "                            flatList.append(c)\n",
    "        else:\n",
    "            if type(i) == int:\n",
    "                flatList.append(i)\n",
    "                \n",
    "    return flatList\n",
    "\n",
    "logging.info(product(list1))\n",
    "                    \n"
   ]
  },
  {
   "cell_type": "code",
   "execution_count": 7,
   "id": "df943e05-18e4-4fb3-b473-624a38e0e925",
   "metadata": {},
   "outputs": [],
   "source": [
    "list2 = product(list1)"
   ]
  },
  {
   "cell_type": "code",
   "execution_count": 8,
   "id": "8e74e795-59f6-4f63-9e45-cf2f3d855057",
   "metadata": {},
   "outputs": [],
   "source": [
    "from functools import reduce"
   ]
  },
  {
   "cell_type": "code",
   "execution_count": 9,
   "id": "c8b2bb1d-c37b-41a8-9e20-40cd982ed725",
   "metadata": {},
   "outputs": [],
   "source": [
    "result = reduce((lambda  x , y : x*y) , list2)\n",
    "logging.info(result)"
   ]
  },
  {
   "cell_type": "code",
   "execution_count": 10,
   "id": "0f844aea-9c4e-4f8c-a9fe-afef29256c95",
   "metadata": {},
   "outputs": [],
   "source": [
    "logging.info(result)"
   ]
  },
  {
   "cell_type": "code",
   "execution_count": null,
   "id": "cea4094e-e88c-4c57-84d7-3c325fd7d389",
   "metadata": {},
   "outputs": [],
   "source": []
  },
  {
   "cell_type": "code",
   "execution_count": 11,
   "id": "07e88139-c98a-4b07-9f7f-a865811758ac",
   "metadata": {},
   "outputs": [],
   "source": [
    "# second question is here"
   ]
  },
  {
   "cell_type": "code",
   "execution_count": 12,
   "id": "23702c80-09ea-4eb7-b219-4c9d6d366810",
   "metadata": {},
   "outputs": [],
   "source": [
    "encrypt = \"I want to become a Data Scientist.\".lower()"
   ]
  },
  {
   "cell_type": "code",
   "execution_count": 14,
   "id": "e0c3ad78-8092-46c9-b8f4-d13bf65092d2",
   "metadata": {},
   "outputs": [],
   "source": [
    "dict1 = {\"a\" : \"z\",\"b\":\"y\", \"c\":\"x\", \" \" : \"$\"}\n",
    "\n",
    "num = encrypt[::1]\n",
    "\n",
    "for i in dict1:\n",
    "    num = num.replace(i,dict1[i])\n",
    "    \n",
    "logging.in\n",
    "logging.info(f\"{num}\")   \n",
    "    "
   ]
  },
  {
   "cell_type": "code",
   "execution_count": null,
   "id": "1fab54fb-8de6-4565-9647-92abc99916b4",
   "metadata": {},
   "outputs": [],
   "source": []
  }
 ],
 "metadata": {
  "kernelspec": {
   "display_name": "Python 3 (ipykernel)",
   "language": "python",
   "name": "python3"
  },
  "language_info": {
   "codemirror_mode": {
    "name": "ipython",
    "version": 3
   },
   "file_extension": ".py",
   "mimetype": "text/x-python",
   "name": "python",
   "nbconvert_exporter": "python",
   "pygments_lexer": "ipython3",
   "version": "3.10.8"
  }
 },
 "nbformat": 4,
 "nbformat_minor": 5
}
