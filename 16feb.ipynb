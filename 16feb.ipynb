{
 "cells": [
  {
   "cell_type": "code",
   "execution_count": 1,
   "id": "688b7242-aa39-42a0-85c6-767aa6eb6275",
   "metadata": {},
   "outputs": [],
   "source": [
    "# question-1"
   ]
  },
  {
   "cell_type": "code",
   "execution_count": 1,
   "id": "c392ad44-1361-4e63-9b92-73397ce1822c",
   "metadata": {},
   "outputs": [],
   "source": [
    "# Database is a collection of data that is organised which can be used for various purposes. Databases is an collection that can be updated, accessed at any time.\n",
    "# But there are two types of databases relational adn noSql\n",
    "# Relational database is more like structured database where data is structured format or tabular format where as relational database is a database which can be both\n",
    "# strutural and unstructured \n",
    "\n",
    "# SQL is also called structured query language means it stores data in structured tabular format.\n",
    "# NOSQL does not mean it is not sql but it is beyond Sql means it can store multiple types of databases it can store huge data.\n",
    "\n",
    "# types of SQL are :\n",
    "# Microsol SQL server, Mysql, Postgre, Oracle \n",
    "\n",
    "# Types of Nosql are:\n",
    "# Cassandra, Mongodb, Redis, Hbbase."
   ]
  },
  {
   "cell_type": "code",
   "execution_count": null,
   "id": "531fa195-600d-422b-9ec3-286c1c99e48b",
   "metadata": {},
   "outputs": [],
   "source": []
  },
  {
   "cell_type": "code",
   "execution_count": 2,
   "id": "d48a6876-a6b1-405c-a944-4da03f798e46",
   "metadata": {},
   "outputs": [],
   "source": [
    "# question - 2"
   ]
  },
  {
   "cell_type": "code",
   "execution_count": 3,
   "id": "075391f0-0b5b-4462-a6fd-70c27291afb9",
   "metadata": {},
   "outputs": [],
   "source": [
    "# DDL is Data definition languag it is set of SQL Statements that are used to define databases. DDL Statements are used to create, modify and delete databases.\n"
   ]
  },
  {
   "cell_type": "code",
   "execution_count": 4,
   "id": "c8903656-1f01-44a3-86d2-5e2f07e50305",
   "metadata": {},
   "outputs": [],
   "source": [
    "# Create is used to create new objects in database and the above code is written in sql not in jupyter notebooks \n",
    "# CREATE TABLE Products( id INT NULL AUTO_INCREMENT, name VARCHAR(255), price INT, quantity Int) "
   ]
  },
  {
   "cell_type": "code",
   "execution_count": 5,
   "id": "0245ad87-a639-4fd4-9a37-8bad45dcd630",
   "metadata": {},
   "outputs": [],
   "source": [
    "# Drop is used to delete objects in Database \n",
    "\n",
    "# DROP TABLE Products "
   ]
  },
  {
   "cell_type": "code",
   "execution_count": 6,
   "id": "8c2c42a4-a024-4152-991b-d2b62451c7ac",
   "metadata": {},
   "outputs": [],
   "source": [
    "# ALTER is used to modify objects following statement adds new object called description \n",
    "\n",
    "# ALTER TABLE products ADD COLUMN descriptions VARCHAR(200)"
   ]
  },
  {
   "cell_type": "code",
   "execution_count": 7,
   "id": "66941de5-c95b-4af9-a05a-bbb23a5b2e09",
   "metadata": {},
   "outputs": [],
   "source": [
    "# TRUNCATE IS used to delete all the data from the table not table itself \n",
    "\n",
    "# TRUNCATE TABLE products"
   ]
  },
  {
   "cell_type": "code",
   "execution_count": null,
   "id": "d1dab26e-9465-4b16-86ee-8fccccb56417",
   "metadata": {},
   "outputs": [],
   "source": []
  },
  {
   "cell_type": "code",
   "execution_count": 8,
   "id": "806a9756-0101-498f-9f42-4c44f6e96f0a",
   "metadata": {},
   "outputs": [],
   "source": [
    "# question - 3"
   ]
  },
  {
   "cell_type": "code",
   "execution_count": 9,
   "id": "36d33c16-3d64-4005-909c-d679ee71ff8f",
   "metadata": {},
   "outputs": [],
   "source": [
    "# Here DML Stands for Data Manipulation Language this language is used to manipulate or change data according time and situations \n",
    "# They are three types of keys used : Insert, Update, Delete"
   ]
  },
  {
   "cell_type": "code",
   "execution_count": 10,
   "id": "b7d67842-ce8f-4ff9-969d-95bb1044a591",
   "metadata": {},
   "outputs": [],
   "source": [
    "# Insert us used to insert new data into table \n",
    "\n",
    "# INSERT INTO products (name, price , quantity)\n",
    "# VALUES (\"google pixel 7 \", 1020, 200)"
   ]
  },
  {
   "cell_type": "code",
   "execution_count": 11,
   "id": "a06ac3a8-8a04-4548-b456-284b9a32ad5f",
   "metadata": {},
   "outputs": [],
   "source": [
    "# UPDATE Is used to update the price and names of the products \n",
    "\n",
    "# UPDATE products \n",
    "# SET price = 2000\n",
    "# WHERE name = \"google pixel 7\""
   ]
  },
  {
   "cell_type": "code",
   "execution_count": 12,
   "id": "86479126-6791-477a-97d1-f95a52febfaf",
   "metadata": {},
   "outputs": [],
   "source": [
    "# DELETE IS used to insert new data into a table \n",
    "\n",
    "# DELETE products \n",
    "# WHERE ID = 1\n"
   ]
  },
  {
   "cell_type": "code",
   "execution_count": null,
   "id": "e34aa83d-85ee-4492-aec1-6506cdc3ac80",
   "metadata": {},
   "outputs": [],
   "source": []
  },
  {
   "cell_type": "code",
   "execution_count": 13,
   "id": "acade39c-f3e6-45a9-8711-9f3ee50e024b",
   "metadata": {},
   "outputs": [],
   "source": [
    "# QUESTION - 4\n"
   ]
  },
  {
   "cell_type": "code",
   "execution_count": 15,
   "id": "2b40a47b-accc-4e38-bcb6-38cc8ae8b3b5",
   "metadata": {},
   "outputs": [],
   "source": [
    "# DQL OR data query language is a set of statements that are used to retrieve data from databse \n",
    "\n",
    "# TEMPLATE MODE \n",
    "# SELECT * COLUMN_NAME (LIST of column names)\n",
    "# FROM TABLE_NAME (NAME OF THE TABLE WHERE IT IS SELCTED )\n",
    "# WHERE CONDITION (CONDITIONS IT HAS TO FOLLOW)"
   ]
  },
  {
   "cell_type": "code",
   "execution_count": 16,
   "id": "3d82b86d-f1c1-46c3-90ae-39dddc3daa07",
   "metadata": {},
   "outputs": [],
   "source": [
    "# EG\n",
    "# SELECT * name, price \n",
    "# FROM products\n",
    "# WHERE price > 1000"
   ]
  },
  {
   "cell_type": "code",
   "execution_count": null,
   "id": "67e32dde-e31f-435f-a3f3-d1a636a2998a",
   "metadata": {},
   "outputs": [],
   "source": []
  },
  {
   "cell_type": "code",
   "execution_count": 17,
   "id": "7fdc0c98-9c26-4263-b966-f01313f14a13",
   "metadata": {},
   "outputs": [],
   "source": [
    "# question - 5"
   ]
  },
  {
   "cell_type": "code",
   "execution_count": 18,
   "id": "4f6ecc56-8444-47a4-83ce-40823d1f0730",
   "metadata": {},
   "outputs": [],
   "source": [
    "# Primary key is a column in a table where it uniquely identifies each table like {s.no} while writing a table where as foreign key is the column of \n",
    "# another table but not compulsority unique like {s.no} of one table can also be {s.no} of another table .\n",
    "# Primary key is mandatory and foreign key is optional \n",
    "# Foreign key is used to establish relationship between two tables "
   ]
  },
  {
   "cell_type": "code",
   "execution_count": null,
   "id": "56798dab-faa2-49d8-b4d3-925fbf72eca5",
   "metadata": {},
   "outputs": [],
   "source": []
  },
  {
   "cell_type": "code",
   "execution_count": 19,
   "id": "ccfa28fa-12de-4324-9d7e-e55bd7c85b61",
   "metadata": {},
   "outputs": [],
   "source": [
    "# question - 6"
   ]
  },
  {
   "cell_type": "code",
   "execution_count": 20,
   "id": "6faa7afe-61d1-4ab3-80e3-52ed14877c75",
   "metadata": {},
   "outputs": [],
   "source": [
    "# This code should have written in Sql+ python environment of python but due submission problem it has been written here but same code applies if you write it in \n",
    "# sql environment "
   ]
  },
  {
   "cell_type": "code",
   "execution_count": 22,
   "id": "4f7a057f-d3d3-4641-bf69-95ee8541a821",
   "metadata": {},
   "outputs": [],
   "source": [
    "# code\n",
    "# import mysql.connector\n",
    "\n",
    "# mydb = mysql.connector.connect(\n",
    "#     host = \"localhost\",\n",
    "#     user = \"abc\",\n",
    "#     password = \"password\") \n",
    "\n",
    "# mycursor = mydb.cursor()\n",
    "# mycursor.excute(\"select from the table \")\n",
    "\n",
    "# results = mycursor.fetchall()\n",
    "# mydb.close()\n",
    "\n",
    "# if __name__ == \"__main__\":\n",
    "#     connect_to_mysql()\n",
    "    \n"
   ]
  },
  {
   "cell_type": "code",
   "execution_count": 23,
   "id": "b21a59c4-c109-4fd7-a7d5-736ad1ce98e5",
   "metadata": {},
   "outputs": [],
   "source": [
    "# here in the above code (mycursor) creates a cursor which is used to create cursor object which inturn used to help in executing the SQL \n",
    "# Execute object is used to execute the code and fetchall is used to fetch all the results "
   ]
  },
  {
   "cell_type": "code",
   "execution_count": null,
   "id": "0461e0ff-3a6f-48f2-8f11-5053e6e4943a",
   "metadata": {},
   "outputs": [],
   "source": []
  },
  {
   "cell_type": "code",
   "execution_count": 24,
   "id": "1368ef2e-a2f6-4efb-8120-d6a8b4ef7d94",
   "metadata": {},
   "outputs": [],
   "source": [
    "# question - 7"
   ]
  },
  {
   "cell_type": "code",
   "execution_count": 25,
   "id": "ce777fbc-2075-4414-80cc-3b1bca684350",
   "metadata": {},
   "outputs": [],
   "source": [
    "# SELECT *\n",
    "# FROM my_table\n",
    "# WHERE name = 'John Doe'\n",
    "# GROUP BY age\n",
    "# HAVING age > 18\n",
    "# ORDER BY age DESC\n",
    "# LIMIT 10;"
   ]
  },
  {
   "cell_type": "code",
   "execution_count": null,
   "id": "0ef4fe1c-8f95-4185-a5f7-87bbef87adc2",
   "metadata": {},
   "outputs": [],
   "source": [
    "# here from is used so it tells database to look for my_table(object)\n",
    "# Where represents the conditions \n",
    "# GROUP BY represents to group names by age \n",
    "# having is condition where they are grouped according to age \n",
    "# Order by represents how group should be ordered \n",
    "# limit means to return only 10 results"
   ]
  }
 ],
 "metadata": {
  "kernelspec": {
   "display_name": "Python 3 (ipykernel)",
   "language": "python",
   "name": "python3"
  },
  "language_info": {
   "codemirror_mode": {
    "name": "ipython",
    "version": 3
   },
   "file_extension": ".py",
   "mimetype": "text/x-python",
   "name": "python",
   "nbconvert_exporter": "python",
   "pygments_lexer": "ipython3",
   "version": "3.10.8"
  }
 },
 "nbformat": 4,
 "nbformat_minor": 5
}
