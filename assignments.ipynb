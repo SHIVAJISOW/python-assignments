{
 "cells": [
  {
   "cell_type": "code",
   "execution_count": 1,
   "id": "7bec797a-c444-4199-ad03-16add71a25fc",
   "metadata": {},
   "outputs": [],
   "source": [
    "# PYTHON ASSIGNMENTS  2nd feb"
   ]
  },
  {
   "cell_type": "code",
   "execution_count": 1,
   "id": "5b01414f-ead6-4586-af3f-06c133b51981",
   "metadata": {},
   "outputs": [
    {
     "name": "stdout",
     "output_type": "stream",
     "text": [
      "rohan\n",
      "thalaiva\n",
      "monkey\n"
     ]
    }
   ],
   "source": [
    "# loop is used to iterate sequence of numbers\n",
    "\n",
    "a1 = [\"rohan\", \"thalaiva\", \"monkey\"]\n",
    "\n",
    "for i in a1:\n",
    "    print (i)"
   ]
  },
  {
   "cell_type": "code",
   "execution_count": 6,
   "id": "95a74e5f-10b2-4a86-8559-8b6587f8fd17",
   "metadata": {},
   "outputs": [
    {
     "name": "stdout",
     "output_type": "stream",
     "text": [
      "1\n",
      "2\n",
      "3\n",
      "4\n"
     ]
    }
   ],
   "source": [
    "# while loop \n",
    "i = 1\n",
    "while i <9:\n",
    "    print(i)\n",
    "    if i == 4:\n",
    "        break\n",
    "    i +=1    \n",
    "    \n",
    "       "
   ]
  },
  {
   "cell_type": "code",
   "execution_count": 7,
   "id": "749aa889-0b91-42d4-bfbf-ec1cda093e56",
   "metadata": {},
   "outputs": [
    {
     "data": {
      "text/plain": [
       "55"
      ]
     },
     "execution_count": 7,
     "metadata": {},
     "output_type": "execute_result"
    }
   ],
   "source": [
    "# question 2\n",
    "\n",
    "a3 = (1,2,3,4,5,6,7,8,9,10)\n",
    "\n",
    "result = 0 \n",
    "for i in a3:\n",
    "    result = result + i\n",
    "result    "
   ]
  },
  {
   "cell_type": "code",
   "execution_count": 8,
   "id": "42654614-7d6f-4225-83c9-2df2e5800e75",
   "metadata": {},
   "outputs": [
    {
     "data": {
      "text/plain": [
       "0"
      ]
     },
     "execution_count": 8,
     "metadata": {},
     "output_type": "execute_result"
    }
   ],
   "source": [
    "result = 0\n",
    "for i in a3:\n",
    "    result = result * i\n",
    "result    "
   ]
  },
  {
   "cell_type": "code",
   "execution_count": 10,
   "id": "bfb8cb1b-8f71-4ac7-aa24-b8f140300bbc",
   "metadata": {},
   "outputs": [
    {
     "name": "stdout",
     "output_type": "stream",
     "text": [
      "55\n"
     ]
    }
   ],
   "source": [
    "sum = 0\n",
    "for i in range(1,11):\n",
    "  \n",
    "    sum = sum + i\n",
    "print(sum)    "
   ]
  },
  {
   "cell_type": "code",
   "execution_count": 2,
   "id": "38175ec6-4b15-4bac-8ec1-b950b0b1ca81",
   "metadata": {},
   "outputs": [
    {
     "name": "stdout",
     "output_type": "stream",
     "text": [
      "1\n",
      "2\n",
      "6\n",
      "24\n",
      "120\n",
      "720\n",
      "5040\n",
      "40320\n",
      "362880\n",
      "3628800\n"
     ]
    }
   ],
   "source": [
    "result = 1\n",
    "for i in range(1,11):\n",
    "    result = result*i\n",
    "    print(result)"
   ]
  },
  {
   "cell_type": "code",
   "execution_count": 3,
   "id": "2091b5c9-34c0-4da0-9fcb-0d637a35b20f",
   "metadata": {},
   "outputs": [],
   "source": [
    "# THIS IS 3RD QUESTION ON ELECTRIC BILLS"
   ]
  },
  {
   "cell_type": "code",
   "execution_count": 7,
   "id": "cb64bb18-968a-4e5e-8d55-435f703ab7cb",
   "metadata": {},
   "outputs": [
    {
     "name": "stdin",
     "output_type": "stream",
     "text": [
      "what is this months units:  310\n"
     ]
    },
    {
     "name": "stdout",
     "output_type": "stream",
     "text": [
      "3955.0\n"
     ]
    }
   ],
   "source": [
    "unit = int(input(\"what is this months units: \"))\n",
    "if unit  <= 100:\n",
    "           bill = unit * 4.5\n",
    "elif unit >= 101 and unit<= 200:\n",
    "           bill = (unit*4.5) + ((unit- 100) * 6)\n",
    "elif unit >= 201 and unit <= 300:\n",
    "           bill = (unit*4.5) + ((unit - 100)* 6) + ((unit - 200)*10)\n",
    "else:\n",
    "           bill = (unit*4.5) + ((unit - 100)*6) + ((unit - 200)*10)  + ((unit - 300) *20)\n",
    "print(bill)           \n",
    "          \n",
    "           "
   ]
  },
  {
   "cell_type": "code",
   "execution_count": 14,
   "id": "77e79b1f-6389-4537-a468-c32ba5e4c0bd",
   "metadata": {},
   "outputs": [],
   "source": [
    "# Q5\n",
    "\n",
    "string = \"I want to become a data scientist\"\n",
    "\n",
    "def vowel_count(string):\n",
    "    count = 0\n",
    "    vowel = set(\"aeiouAEIOU\")\n",
    "    \n",
    "    for alphabet in string:\n",
    "        if alphabet in vowel:\n",
    "            count = count+1\n",
    "    print(\"no.of vowels \", count)\n",
    "    \n",
    "    \n",
    "    "
   ]
  },
  {
   "cell_type": "code",
   "execution_count": 13,
   "id": "2624b3e6-1f87-46bf-a9c0-541de4b6a6f2",
   "metadata": {},
   "outputs": [
    {
     "name": "stdout",
     "output_type": "stream",
     "text": [
      "no.of vowels  12\n"
     ]
    },
    {
     "ename": "TypeError",
     "evalue": "vowel_count() missing 1 required positional argument: 'string'",
     "output_type": "error",
     "traceback": [
      "\u001b[0;31m---------------------------------------------------------------------------\u001b[0m",
      "\u001b[0;31mTypeError\u001b[0m                                 Traceback (most recent call last)",
      "Cell \u001b[0;32mIn[13], line 1\u001b[0m\n\u001b[0;32m----> 1\u001b[0m \u001b[43mvowel_count\u001b[49m\u001b[43m(\u001b[49m\u001b[43mstring\u001b[49m\u001b[43m)\u001b[49m\n",
      "Cell \u001b[0;32mIn[10], line 15\u001b[0m, in \u001b[0;36mvowel_count\u001b[0;34m(string)\u001b[0m\n\u001b[1;32m     11\u001b[0m         count \u001b[38;5;241m=\u001b[39m count\u001b[38;5;241m+\u001b[39m\u001b[38;5;241m1\u001b[39m\n\u001b[1;32m     12\u001b[0m \u001b[38;5;28mprint\u001b[39m(\u001b[38;5;124m\"\u001b[39m\u001b[38;5;124mno.of vowels \u001b[39m\u001b[38;5;124m\"\u001b[39m, count)\n\u001b[0;32m---> 15\u001b[0m \u001b[43mvowel_count\u001b[49m\u001b[43m(\u001b[49m\u001b[43m)\u001b[49m\n",
      "\u001b[0;31mTypeError\u001b[0m: vowel_count() missing 1 required positional argument: 'string'"
     ]
    }
   ],
   "source": [
    "vowel_count(string)"
   ]
  },
  {
   "cell_type": "code",
   "execution_count": null,
   "id": "9ab5f5a9-1535-49d1-aa65-597e317794fb",
   "metadata": {},
   "outputs": [],
   "source": []
  }
 ],
 "metadata": {
  "kernelspec": {
   "display_name": "Python 3 (ipykernel)",
   "language": "python",
   "name": "python3"
  },
  "language_info": {
   "codemirror_mode": {
    "name": "ipython",
    "version": 3
   },
   "file_extension": ".py",
   "mimetype": "text/x-python",
   "name": "python",
   "nbconvert_exporter": "python",
   "pygments_lexer": "ipython3",
   "version": "3.10.8"
  }
 },
 "nbformat": 4,
 "nbformat_minor": 5
}
