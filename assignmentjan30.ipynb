{
 "cells": [
  {
   "cell_type": "markdown",
   "id": "a5dae3b0-92b0-4a5a-ba3e-3948b78b17ff",
   "metadata": {},
   "source": [
    "  ASSIGNMENT JAN 30           "
   ]
  },
  {
   "cell_type": "code",
   "execution_count": 2,
   "id": "03784fe6-e305-45a0-908e-d06c0a8659cb",
   "metadata": {},
   "outputs": [
    {
     "name": "stdin",
     "output_type": "stream",
     "text": [
      "what are marks of the students 44\n"
     ]
    },
    {
     "name": "stdout",
     "output_type": "stream",
     "text": [
      "GRADE (D)\n"
     ]
    }
   ],
   "source": [
    "# Q1\n",
    "Marks = int(input(\"what are marks of the students\"))\n",
    "\n",
    "if Marks>90 :\n",
    "    print(\"GRADE (A)\")\n",
    "elif Marks >= 80 and Marks <=90:\n",
    "    print(\"GRADE (B)\")\n",
    "elif Marks >= 60 and Marks <= 80:\n",
    "    print('GRADE (C)')\n",
    "else:\n",
    "    print(\"GRADE (D)\")"
   ]
  },
  {
   "cell_type": "code",
   "execution_count": 3,
   "id": "4030e666-b2f7-490e-b2cb-056958b5e644",
   "metadata": {},
   "outputs": [
    {
     "ename": "SyntaxError",
     "evalue": "invalid syntax (4121454022.py, line 6)",
     "output_type": "error",
     "traceback": [
      "\u001b[0;36m  Cell \u001b[0;32mIn[3], line 6\u001b[0;36m\u001b[0m\n\u001b[0;31m    print ( 'TOTAL PRICE = ' + 15%)\u001b[0m\n\u001b[0m                                  ^\u001b[0m\n\u001b[0;31mSyntaxError\u001b[0m\u001b[0;31m:\u001b[0m invalid syntax\n"
     ]
    }
   ],
   "source": [
    "\n",
    "# QUESTION 2\n",
    "\n",
    "Cost_price = int(input(\"what is the cp of car\"))\n",
    "\n",
    "if Cost_price > 100000:\n",
    "    print ( 'TOTAL PRICE = ' + 15%)\n",
    "elif Cost_price >= 50000 and Cost_price <= 100000:\n",
    "    print(\"TOTAL PRICE = \" + 10%)\n",
    "else:\n",
    "    print(\"TOTAL PRICE = \" + 5%)"
   ]
  },
  {
   "cell_type": "code",
   "execution_count": null,
   "id": "8cf426f0-4a0a-4bf1-a4e5-428baecfe5b5",
   "metadata": {},
   "outputs": [],
   "source": []
  },
  {
   "cell_type": "code",
   "execution_count": null,
   "id": "d30c16cf-1465-4137-8570-d415a52b9fba",
   "metadata": {},
   "outputs": [],
   "source": []
  },
  {
   "cell_type": "markdown",
   "id": "8458ae1b-2943-47e4-8e54-f87a4bcb9c3e",
   "metadata": {},
   "source": [
    "Q16\n",
    "\n",
    "indentation is very important in python"
   ]
  },
  {
   "cell_type": "code",
   "execution_count": null,
   "id": "9591d0c6-d77d-4e6b-a0b1-fcec9aac4804",
   "metadata": {},
   "outputs": [],
   "source": [
    "Q16\n",
    "\n",
    "indentation is very important in python"
   ]
  },
  {
   "cell_type": "code",
   "execution_count": null,
   "id": "cafb52c8-d85c-41a4-98b0-8029a6611204",
   "metadata": {},
   "outputs": [],
   "source": []
  }
 ],
 "metadata": {
  "kernelspec": {
   "display_name": "Python 3 (ipykernel)",
   "language": "python",
   "name": "python3"
  },
  "language_info": {
   "codemirror_mode": {
    "name": "ipython",
    "version": 3
   },
   "file_extension": ".py",
   "mimetype": "text/x-python",
   "name": "python",
   "nbconvert_exporter": "python",
   "pygments_lexer": "ipython3",
   "version": "3.10.8"
  }
 },
 "nbformat": 4,
 "nbformat_minor": 5
}
