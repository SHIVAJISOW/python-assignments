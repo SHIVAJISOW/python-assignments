{
 "cells": [
  {
   "cell_type": "markdown",
   "id": "b83f812b-354e-4782-bc01-eccd505ca055",
   "metadata": {},
   "source": [
    "\n",
    "THIS IS ASSIGNMENT OF PYTHON ON 4TH FEBRUARY"
   ]
  },
  {
   "cell_type": "code",
   "execution_count": null,
   "id": "3c35f0cd-7b60-4c03-bbed-bdac5bd7776e",
   "metadata": {},
   "outputs": [],
   "source": [
    "# Q1\n",
    "\n",
    "sorting = [(\"Sachin Tendulkar\", 34567),(\"Ricky Ponting\" , 27483), (\"Jack Kallis\" , 25534), (\"Virat kohli\",24936)]\n",
    "\n",
    "type(sorting)\n"
   ]
  },
  {
   "cell_type": "code",
   "execution_count": 8,
   "id": "5eb6284a-cc39-4503-af98-f1e1bdee0804",
   "metadata": {},
   "outputs": [
    {
     "name": "stdout",
     "output_type": "stream",
     "text": [
      "[('Virat kohli', 24936), ('Jack Kallis', 25534), ('Ricky Ponting', 27483), ('Sachin Tendulkar', 34567)]\n"
     ]
    }
   ],
   "source": [
    "sorting.sort(key = lambda x: x[1]) \n",
    "\n",
    "print(sorting)"
   ]
  },
  {
   "cell_type": "markdown",
   "id": "08f4629c-ec31-4bd5-bc37-698d77aafbe1",
   "metadata": {},
   "source": [
    "Q2"
   ]
  },
  {
   "cell_type": "code",
   "execution_count": 10,
   "id": "ec38d1ee-a62f-4bc2-bc01-6259e5c8301d",
   "metadata": {},
   "outputs": [
    {
     "name": "stdout",
     "output_type": "stream",
     "text": [
      "[1, 4, 9, 16, 25, 36, 49, 64, 81, 100]\n"
     ]
    }
   ],
   "source": [
    "number = [1,2,3,4,5,6,7,8,9,10]\n",
    "\n",
    "square_number =  list(map(lambda x: x**2,number))\n",
    "\n",
    "print(square_number)"
   ]
  },
  {
   "cell_type": "markdown",
   "id": "feea50b8-1c82-419f-b9e4-875e147790d9",
   "metadata": {},
   "source": [
    "Q3"
   ]
  },
  {
   "cell_type": "code",
   "execution_count": 39,
   "id": "9f32e221-713b-47eb-aec2-fa8642b60371",
   "metadata": {},
   "outputs": [],
   "source": [
    "string = [1,2,3,4,5,6,7,8,9,10]\n",
    "\n",
    "output = tuple(map(lambda x : str(x), string))\n",
    "\n"
   ]
  },
  {
   "cell_type": "code",
   "execution_count": 40,
   "id": "6bd82c46-5f98-4343-acb9-0f7666341f4d",
   "metadata": {},
   "outputs": [
    {
     "data": {
      "text/plain": [
       "('1', '2', '3', '4', '5', '6', '7', '8', '9', '10')"
      ]
     },
     "execution_count": 40,
     "metadata": {},
     "output_type": "execute_result"
    }
   ],
   "source": [
    "output"
   ]
  },
  {
   "cell_type": "markdown",
   "id": "02e22b45-5f9a-48d8-b499-6e534b086607",
   "metadata": {},
   "source": [
    "Q4 "
   ]
  },
  {
   "cell_type": "code",
   "execution_count": 41,
   "id": "b7b9d87c-080d-4c75-88b6-7774711e7d3f",
   "metadata": {},
   "outputs": [],
   "source": [
    "from functools import reduce"
   ]
  },
  {
   "cell_type": "code",
   "execution_count": 44,
   "id": "ab04d795-445a-44b8-bd61-b50bb10aae9e",
   "metadata": {},
   "outputs": [],
   "source": [
    "A = list(range(1,26))"
   ]
  },
  {
   "cell_type": "code",
   "execution_count": 45,
   "id": "6b5767ef-29ff-47ee-9973-bd02ad55b30b",
   "metadata": {},
   "outputs": [
    {
     "data": {
      "text/plain": [
       "[1,\n",
       " 2,\n",
       " 3,\n",
       " 4,\n",
       " 5,\n",
       " 6,\n",
       " 7,\n",
       " 8,\n",
       " 9,\n",
       " 10,\n",
       " 11,\n",
       " 12,\n",
       " 13,\n",
       " 14,\n",
       " 15,\n",
       " 16,\n",
       " 17,\n",
       " 18,\n",
       " 19,\n",
       " 20,\n",
       " 21,\n",
       " 22,\n",
       " 23,\n",
       " 24,\n",
       " 25]"
      ]
     },
     "execution_count": 45,
     "metadata": {},
     "output_type": "execute_result"
    }
   ],
   "source": [
    "A"
   ]
  },
  {
   "cell_type": "code",
   "execution_count": 46,
   "id": "187b0acb-0566-48ab-b220-b119683a6ddf",
   "metadata": {},
   "outputs": [
    {
     "data": {
      "text/plain": [
       "15511210043330985984000000"
      ]
     },
     "execution_count": 46,
     "metadata": {},
     "output_type": "execute_result"
    }
   ],
   "source": [
    "reduce(lambda x,y : x * y , A)"
   ]
  },
  {
   "cell_type": "markdown",
   "id": "ef4ac158-27f1-4a47-a3cc-fd764402ed84",
   "metadata": {},
   "source": [
    "Q5"
   ]
  },
  {
   "cell_type": "code",
   "execution_count": 47,
   "id": "80e2151b-d0f8-4772-8e28-09ae12ec5a09",
   "metadata": {},
   "outputs": [
    {
     "data": {
      "text/plain": [
       "[6, 60, 90, 120]"
      ]
     },
     "execution_count": 47,
     "metadata": {},
     "output_type": "execute_result"
    }
   ],
   "source": [
    "A1 = [2,3,6,9,27,60,90,120,55,46]\n",
    "\n",
    "list(filter(lambda x: x%2==0 and x%3==0 , A1))"
   ]
  },
  {
   "cell_type": "markdown",
   "id": "094c4899-0c3b-4943-87c7-c7a984682ec1",
   "metadata": {},
   "source": [
    "Q6"
   ]
  },
  {
   "cell_type": "code",
   "execution_count": null,
   "id": "0540fbae-882d-49ca-aa21-a96b0cabc64f",
   "metadata": {},
   "outputs": [],
   "source": [
    "texts = ['python', 'php', 'aba', 'radar','level']\n",
    "\n",
    "output = list(filter(lambda x: (x == \"\".join(reversed(x))), texts)))"
   ]
  }
 ],
 "metadata": {
  "kernelspec": {
   "display_name": "Python 3 (ipykernel)",
   "language": "python",
   "name": "python3"
  },
  "language_info": {
   "codemirror_mode": {
    "name": "ipython",
    "version": 3
   },
   "file_extension": ".py",
   "mimetype": "text/x-python",
   "name": "python",
   "nbconvert_exporter": "python",
   "pygments_lexer": "ipython3",
   "version": "3.10.8"
  }
 },
 "nbformat": 4,
 "nbformat_minor": 5
}
