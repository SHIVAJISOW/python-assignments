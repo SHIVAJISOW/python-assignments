{
 "cells": [
  {
   "cell_type": "code",
   "execution_count": 15,
   "id": "a387ee40-f9b6-4b68-ad34-1a5e7ad695e7",
   "metadata": {},
   "outputs": [],
   "source": [
    "# problem 1"
   ]
  },
  {
   "cell_type": "markdown",
   "id": "91a50d5e-edfc-4a05-86dc-268c8ce8262a",
   "metadata": {},
   "source": [
    "HERE IN THE FUNCTION OF PYTHON WE USE (def) keyword to denote function"
   ]
  },
  {
   "cell_type": "code",
   "execution_count": 16,
   "id": "de97c114-c019-4a0a-a94c-58d41d78185f",
   "metadata": {},
   "outputs": [],
   "source": [
    "numbers = list(range(0,25))"
   ]
  },
  {
   "cell_type": "code",
   "execution_count": 18,
   "id": "a94e84b7-3b0b-4b4c-9cd2-fd4bab5d4b0f",
   "metadata": {},
   "outputs": [],
   "source": [
    "try:\n",
    "    odd_number = []\n",
    "    def odds(numbers):\n",
    "        for i in numbers:\n",
    "            if i % 2 != 0: \n",
    "                odd_number.append(i)\n",
    "           \n",
    "            \n",
    "        return odd_number\n",
    "except Exception as e:\n",
    "    print(e)\n",
    "            "
   ]
  },
  {
   "cell_type": "code",
   "execution_count": 19,
   "id": "eb1e8685-b3e1-4225-a54d-bf9bb78e429c",
   "metadata": {},
   "outputs": [
    {
     "data": {
      "text/plain": [
       "[1, 3, 5, 7, 9, 11, 13, 15, 17, 19, 21, 23]"
      ]
     },
     "execution_count": 19,
     "metadata": {},
     "output_type": "execute_result"
    }
   ],
   "source": [
    "odds(numbers)"
   ]
  },
  {
   "cell_type": "code",
   "execution_count": null,
   "id": "93aeb0b7-9d5b-4390-ac2c-f261e6819ecb",
   "metadata": {},
   "outputs": [],
   "source": []
  },
  {
   "cell_type": "code",
   "execution_count": 20,
   "id": "43f71bd6-6c2a-48f1-a238-aa1bc5b410e7",
   "metadata": {},
   "outputs": [],
   "source": [
    "# problem 2"
   ]
  },
  {
   "cell_type": "code",
   "execution_count": 21,
   "id": "7b89f3e4-f670-4a28-bada-4daaaad7efe6",
   "metadata": {},
   "outputs": [],
   "source": [
    "# args and kwargs are used in function to give multiple arguements in single function it is not necessary that we should use args only we can use any work what is much needed is * before the word"
   ]
  },
  {
   "cell_type": "code",
   "execution_count": 22,
   "id": "0fd4bd47-e0f4-42ce-bbb1-6745216dcdad",
   "metadata": {},
   "outputs": [],
   "source": [
    "try:\n",
    "    def test1(*args):\n",
    "        return args\n",
    "except Exception as e:\n",
    "    print(e)"
   ]
  },
  {
   "cell_type": "code",
   "execution_count": 23,
   "id": "c8388745-605f-498d-8e47-b1d284967849",
   "metadata": {},
   "outputs": [
    {
     "data": {
      "text/plain": [
       "(2, 3, 4, 5, 6, ['shankar', 'royal seema'], 878)"
      ]
     },
     "execution_count": 23,
     "metadata": {},
     "output_type": "execute_result"
    }
   ],
   "source": [
    "test1(2,3,4,5,6,[\"shankar\",\"royal seema\"],878)"
   ]
  },
  {
   "cell_type": "code",
   "execution_count": 26,
   "id": "562b3983-1dee-493e-98c4-7cb4789f615c",
   "metadata": {},
   "outputs": [],
   "source": [
    "# second type\n",
    "def test2(*args , a):\n",
    "    return args,a"
   ]
  },
  {
   "cell_type": "code",
   "execution_count": 27,
   "id": "a9228304-1674-4688-a9e2-32fc3748c511",
   "metadata": {},
   "outputs": [
    {
     "data": {
      "text/plain": [
       "((1, 2, 3, 4, 5, 6), 666)"
      ]
     },
     "execution_count": 27,
     "metadata": {},
     "output_type": "execute_result"
    }
   ],
   "source": [
    "test2(1,2,3,4,5,6, a = 666)"
   ]
  },
  {
   "cell_type": "code",
   "execution_count": 28,
   "id": "909ecfce-e71a-4e6f-9b37-654977e26876",
   "metadata": {},
   "outputs": [],
   "source": [
    "# kwargs return dictionary type results  here also the particular word kwargs is not necessary but ** is what makes it different from args"
   ]
  },
  {
   "cell_type": "code",
   "execution_count": 31,
   "id": "d4903ffb-5ef9-4d0b-9937-78d772fb07e5",
   "metadata": {},
   "outputs": [],
   "source": [
    "try:\n",
    "    def test3(**kwargs):\n",
    "        return kwargs\n",
    "except Exception as e:\n",
    "    print(e)\n",
    "    \n",
    "        "
   ]
  },
  {
   "cell_type": "code",
   "execution_count": 33,
   "id": "b59355a0-cb1d-4a06-8e00-64dfdb0f43aa",
   "metadata": {},
   "outputs": [
    {
     "data": {
      "text/plain": [
       "dict"
      ]
     },
     "execution_count": 33,
     "metadata": {},
     "output_type": "execute_result"
    }
   ],
   "source": [
    "type(test3())"
   ]
  },
  {
   "cell_type": "code",
   "execution_count": 34,
   "id": "c2580257-1344-422d-8018-dc394a874c28",
   "metadata": {},
   "outputs": [
    {
     "data": {
      "text/plain": [
       "{'a': [1, 2, 3, 4, 5], 'b': 'shivaji', 'c': [9.7]}"
      ]
     },
     "execution_count": 34,
     "metadata": {},
     "output_type": "execute_result"
    }
   ],
   "source": [
    "test3(a = [1,2,3,4,5] , b = \"shivaji\", c = [9.7])"
   ]
  },
  {
   "cell_type": "code",
   "execution_count": null,
   "id": "15e5fb61-d82b-42bd-bf77-2ce03e2d0ecb",
   "metadata": {},
   "outputs": [],
   "source": []
  },
  {
   "cell_type": "code",
   "execution_count": 35,
   "id": "99a3dde0-3e61-4617-8d40-7767837bc36f",
   "metadata": {},
   "outputs": [],
   "source": [
    "# problem3\n"
   ]
  },
  {
   "cell_type": "code",
   "execution_count": 36,
   "id": "6c1de779-f376-468f-930e-acf5aff832a0",
   "metadata": {},
   "outputs": [],
   "source": [
    "# iterator is an object that contains countable iterable values the method used in iterating a list is either for loop or while loop means loops are used for iteration\n",
    "# string is not iterator first it should be changed to iterator then iterate"
   ]
  },
  {
   "cell_type": "code",
   "execution_count": 37,
   "id": "648d273d-962b-4115-a81a-18135b37a26b",
   "metadata": {},
   "outputs": [],
   "source": [
    "l = [2,4,6,8,10,12,14,16,18,20]"
   ]
  },
  {
   "cell_type": "code",
   "execution_count": 43,
   "id": "0a51b10c-19b1-432f-bbd2-b365873b90a7",
   "metadata": {},
   "outputs": [
    {
     "name": "stdout",
     "output_type": "stream",
     "text": [
      "2\n",
      "4\n",
      "6\n",
      "8\n",
      "10\n",
      "12\n",
      "14\n",
      "16\n",
      "18\n",
      "20\n"
     ]
    }
   ],
   "source": [
    "try:\n",
    "    for i in l:\n",
    "        print(i)\n",
    "except Exception as e:\n",
    "    print(e)\n",
    "        "
   ]
  },
  {
   "cell_type": "code",
   "execution_count": 47,
   "id": "e7cf8de2-03e3-4895-a639-5105b42cccc3",
   "metadata": {},
   "outputs": [],
   "source": [
    "# problem 4"
   ]
  },
  {
   "cell_type": "code",
   "execution_count": 48,
   "id": "81bfaaf2-263a-4f1b-9da1-b216984c2cb8",
   "metadata": {},
   "outputs": [],
   "source": [
    "# generator function produces the value when it is iterated over\n",
    "# yeild is similar to return value of function it returns the generator value when function is called it returns yield of the function not exactly return"
   ]
  },
  {
   "cell_type": "code",
   "execution_count": 50,
   "id": "8171d512-59dc-48f9-a9ce-df71e85a7a2b",
   "metadata": {},
   "outputs": [],
   "source": [
    "# fibonaci number example\n",
    "\n",
    "try:\n",
    "    def fibNo(n):\n",
    "        a,b = 0,1\n",
    "        for i in range(n):\n",
    "            yield a\n",
    "            a,b =b , a+b\n",
    "except Exception as e:\n",
    "    print(e)\n",
    "   \n",
    "    \n",
    "       \n",
    "        \n",
    "  \n",
    "    "
   ]
  },
  {
   "cell_type": "code",
   "execution_count": 51,
   "id": "dc02c178-47ca-41a3-9830-c0fe222d8383",
   "metadata": {},
   "outputs": [
    {
     "name": "stdout",
     "output_type": "stream",
     "text": [
      "0\n",
      "1\n",
      "1\n",
      "2\n",
      "3\n",
      "5\n",
      "8\n",
      "13\n",
      "21\n",
      "34\n",
      "55\n",
      "89\n"
     ]
    }
   ],
   "source": [
    "for i in fibNo(12):\n",
    "    print(i)"
   ]
  },
  {
   "cell_type": "code",
   "execution_count": null,
   "id": "25f77143-52ab-4182-a147-980a47e88963",
   "metadata": {},
   "outputs": [],
   "source": []
  },
  {
   "cell_type": "code",
   "execution_count": 52,
   "id": "854a6189-b29f-47e1-9b19-7b2358998b42",
   "metadata": {},
   "outputs": [],
   "source": [
    "# problem5"
   ]
  },
  {
   "cell_type": "code",
   "execution_count": 59,
   "id": "72cfe38c-00cf-445c-af79-270aae67c3de",
   "metadata": {},
   "outputs": [
    {
     "name": "stdout",
     "output_type": "stream",
     "text": [
      "2 3 5 7 11 13 17 19 23 29 31 37 41 43 47 53 59 61 67 71 73 79 83 89 97 101 103 107 109 113 127 131 137 139 149 151 157 163 167 173 179 181 191 193 197 199 211 223 227 229 233 239 241 251 257 263 269 271 277 281 283 293 307 311 313 317 331 337 347 349 353 359 367 373 379 383 389 397 401 409 419 421 431 433 439 443 449 457 461 463 467 479 487 491 499 503 509 521 523 541 547 557 563 569 571 577 587 593 599 601 607 613 617 619 631 641 643 647 653 659 661 673 677 683 691 701 709 719 727 733 739 743 751 757 761 769 773 787 797 809 811 821 823 827 829 839 853 857 859 863 877 881 883 887 907 911 919 929 937 941 947 953 967 971 977 983 991 997\n"
     ]
    }
   ],
   "source": [
    "try:\n",
    "    def gen_prime(N):\n",
    "        primes = set()\n",
    "        \n",
    "        for n in range(2,1000):\n",
    "            if all(n % p > 0 for p in primes):\n",
    "                primes.add(n)\n",
    "                yield n\n",
    "    print(*gen_prime(1000))\n",
    "except Exception as e:\n",
    "    print(e)\n",
    "        \n",
    "        \n",
    "    "
   ]
  },
  {
   "cell_type": "code",
   "execution_count": null,
   "id": "1783339c-87d3-40c7-97e2-94f91e254dc3",
   "metadata": {},
   "outputs": [],
   "source": [
    "try:\n",
    "    def gen_prime(N):\n",
    "        primes = set()\n",
    "        \n",
    "        for n in range(2,):\n",
    "            if all(n % p > 0 for p in primes):\n",
    "                primes.add(n)\n",
    "                yield n\n",
    "    print(*gen_prime(1000))\n",
    "except Exception as e:\n",
    "    print(e)"
   ]
  },
  {
   "cell_type": "code",
   "execution_count": null,
   "id": "5da9f299-2aac-4af3-8219-d74bd264fc1d",
   "metadata": {},
   "outputs": [],
   "source": []
  },
  {
   "cell_type": "code",
   "execution_count": null,
   "id": "dd4ae174-3e37-491d-bd7c-e1dafcc518a1",
   "metadata": {},
   "outputs": [],
   "source": []
  },
  {
   "cell_type": "code",
   "execution_count": null,
   "id": "c74e21d4-b299-4d25-9402-ab79a69135ab",
   "metadata": {},
   "outputs": [],
   "source": []
  },
  {
   "cell_type": "code",
   "execution_count": 60,
   "id": "2fc12ab3-68fc-4d35-a1a5-d766eef0ea6b",
   "metadata": {},
   "outputs": [],
   "source": [
    "# problem 6"
   ]
  },
  {
   "cell_type": "code",
   "execution_count": 4,
   "id": "35918aef-52b8-4522-9a74-b6f56f5f9293",
   "metadata": {},
   "outputs": [],
   "source": [
    "# fibonacci number\n",
    "\n",
    "try:\n",
    "    def fib():\n",
    "        a,b = 0,1\n",
    "        while True :\n",
    "            yield a\n",
    "            a,b = b , a+b\n",
    "            \n",
    "except Exception as e:\n",
    "    print(e)\n",
    "    "
   ]
  },
  {
   "cell_type": "code",
   "execution_count": 5,
   "id": "8f4ed5c3-2e92-48ea-af29-bf1c2156578a",
   "metadata": {},
   "outputs": [],
   "source": [
    "s = fib()"
   ]
  },
  {
   "cell_type": "code",
   "execution_count": 6,
   "id": "313ae4e1-563e-46bb-93a8-faeab7ab982e",
   "metadata": {},
   "outputs": [
    {
     "name": "stdout",
     "output_type": "stream",
     "text": [
      "0\n",
      "1\n",
      "1\n",
      "2\n",
      "3\n",
      "5\n",
      "8\n",
      "13\n",
      "21\n",
      "34\n"
     ]
    }
   ],
   "source": [
    "for i in range(10):\n",
    "    print(next(s))"
   ]
  },
  {
   "cell_type": "code",
   "execution_count": null,
   "id": "9bd86c13-2043-4308-8216-4d87f912ee02",
   "metadata": {},
   "outputs": [],
   "source": []
  },
  {
   "cell_type": "code",
   "execution_count": null,
   "id": "a5f247bf-570d-46a2-b62c-01c0bc084ca0",
   "metadata": {},
   "outputs": [],
   "source": []
  },
  {
   "cell_type": "code",
   "execution_count": 7,
   "id": "f6f33ffa-f62a-429c-bff7-e218f8a36b99",
   "metadata": {},
   "outputs": [],
   "source": [
    "# problem 8"
   ]
  },
  {
   "cell_type": "code",
   "execution_count": 8,
   "id": "c5566fd3-d1da-4dae-a430-8569611f188b",
   "metadata": {},
   "outputs": [
    {
     "name": "stdin",
     "output_type": "stream",
     "text": [
      "what is the number 5643\n"
     ]
    },
    {
     "name": "stdout",
     "output_type": "stream",
     "text": [
      "this number is not palidrome\n"
     ]
    }
   ],
   "source": [
    "num = int(input(\"what is the number\"))\n",
    "\n",
    "temp = num \n",
    "rev = 0\n",
    "\n",
    "while (num > 0):\n",
    "    dig = num % 10\n",
    "    rev = num*10 + dig \n",
    "    num = num //10 \n",
    "    \n",
    "if (temp == rev):\n",
    "    print(\"the number is palidrome\")\n",
    "else:\n",
    "    print(\"this number is not palidrome\")\n",
    "    \n",
    "    \n",
    "\n"
   ]
  },
  {
   "cell_type": "code",
   "execution_count": null,
   "id": "6cab8b6b-2635-48df-8efb-ec8e08cb5e0e",
   "metadata": {},
   "outputs": [],
   "source": [
    "# problem9"
   ]
  },
  {
   "cell_type": "code",
   "execution_count": 1,
   "id": "9ebcb6b9-09ce-4dd3-8f43-b7c92117d281",
   "metadata": {},
   "outputs": [],
   "source": [
    "l = list(range(1,100))"
   ]
  },
  {
   "cell_type": "code",
   "execution_count": 2,
   "id": "1a6329e0-6edf-4034-9b08-f8741dc0ea56",
   "metadata": {},
   "outputs": [],
   "source": [
    "l1 = [i for i in range(0,100)]"
   ]
  },
  {
   "cell_type": "code",
   "execution_count": 3,
   "id": "745507f5-dd06-49ec-bb15-db0a5dbd73ee",
   "metadata": {},
   "outputs": [
    {
     "data": {
      "text/plain": [
       "[0,\n",
       " 1,\n",
       " 2,\n",
       " 3,\n",
       " 4,\n",
       " 5,\n",
       " 6,\n",
       " 7,\n",
       " 8,\n",
       " 9,\n",
       " 10,\n",
       " 11,\n",
       " 12,\n",
       " 13,\n",
       " 14,\n",
       " 15,\n",
       " 16,\n",
       " 17,\n",
       " 18,\n",
       " 19,\n",
       " 20,\n",
       " 21,\n",
       " 22,\n",
       " 23,\n",
       " 24,\n",
       " 25,\n",
       " 26,\n",
       " 27,\n",
       " 28,\n",
       " 29,\n",
       " 30,\n",
       " 31,\n",
       " 32,\n",
       " 33,\n",
       " 34,\n",
       " 35,\n",
       " 36,\n",
       " 37,\n",
       " 38,\n",
       " 39,\n",
       " 40,\n",
       " 41,\n",
       " 42,\n",
       " 43,\n",
       " 44,\n",
       " 45,\n",
       " 46,\n",
       " 47,\n",
       " 48,\n",
       " 49,\n",
       " 50,\n",
       " 51,\n",
       " 52,\n",
       " 53,\n",
       " 54,\n",
       " 55,\n",
       " 56,\n",
       " 57,\n",
       " 58,\n",
       " 59,\n",
       " 60,\n",
       " 61,\n",
       " 62,\n",
       " 63,\n",
       " 64,\n",
       " 65,\n",
       " 66,\n",
       " 67,\n",
       " 68,\n",
       " 69,\n",
       " 70,\n",
       " 71,\n",
       " 72,\n",
       " 73,\n",
       " 74,\n",
       " 75,\n",
       " 76,\n",
       " 77,\n",
       " 78,\n",
       " 79,\n",
       " 80,\n",
       " 81,\n",
       " 82,\n",
       " 83,\n",
       " 84,\n",
       " 85,\n",
       " 86,\n",
       " 87,\n",
       " 88,\n",
       " 89,\n",
       " 90,\n",
       " 91,\n",
       " 92,\n",
       " 93,\n",
       " 94,\n",
       " 95,\n",
       " 96,\n",
       " 97,\n",
       " 98,\n",
       " 99]"
      ]
     },
     "execution_count": 3,
     "metadata": {},
     "output_type": "execute_result"
    }
   ],
   "source": [
    "(l1)"
   ]
  },
  {
   "cell_type": "code",
   "execution_count": 5,
   "id": "2b49c027-175a-4d7a-914b-a51c83dc6d97",
   "metadata": {},
   "outputs": [
    {
     "data": {
      "text/plain": [
       "[1,\n",
       " 3,\n",
       " 5,\n",
       " 7,\n",
       " 9,\n",
       " 11,\n",
       " 13,\n",
       " 15,\n",
       " 17,\n",
       " 19,\n",
       " 21,\n",
       " 23,\n",
       " 25,\n",
       " 27,\n",
       " 29,\n",
       " 31,\n",
       " 33,\n",
       " 35,\n",
       " 37,\n",
       " 39,\n",
       " 41,\n",
       " 43,\n",
       " 45,\n",
       " 47,\n",
       " 49,\n",
       " 51,\n",
       " 53,\n",
       " 55,\n",
       " 57,\n",
       " 59,\n",
       " 61,\n",
       " 63,\n",
       " 65,\n",
       " 67,\n",
       " 69,\n",
       " 71,\n",
       " 73,\n",
       " 75,\n",
       " 77,\n",
       " 79,\n",
       " 81,\n",
       " 83,\n",
       " 85,\n",
       " 87,\n",
       " 89,\n",
       " 91,\n",
       " 93,\n",
       " 95,\n",
       " 97,\n",
       " 99]"
      ]
     },
     "execution_count": 5,
     "metadata": {},
     "output_type": "execute_result"
    }
   ],
   "source": [
    "[(i) for i in l1 if i%2 != 0 ]"
   ]
  },
  {
   "cell_type": "code",
   "execution_count": null,
   "id": "1d64ca05-14d8-4ec9-a1c1-0282c75b0745",
   "metadata": {},
   "outputs": [],
   "source": []
  },
  {
   "cell_type": "code",
   "execution_count": null,
   "id": "c63a4d39-8b99-4efb-b71f-1b3d3ccf92be",
   "metadata": {},
   "outputs": [],
   "source": []
  }
 ],
 "metadata": {
  "kernelspec": {
   "display_name": "Python 3 (ipykernel)",
   "language": "python",
   "name": "python3"
  },
  "language_info": {
   "codemirror_mode": {
    "name": "ipython",
    "version": 3
   },
   "file_extension": ".py",
   "mimetype": "text/x-python",
   "name": "python",
   "nbconvert_exporter": "python",
   "pygments_lexer": "ipython3",
   "version": "3.10.8"
  }
 },
 "nbformat": 4,
 "nbformat_minor": 5
}
