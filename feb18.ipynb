{
 "cells": [
  {
   "cell_type": "code",
   "execution_count": 1,
   "id": "6adcc8fe-93ab-44e3-b3ad-aa7580172aa2",
   "metadata": {},
   "outputs": [],
   "source": [
    "# question 1"
   ]
  },
  {
   "cell_type": "code",
   "execution_count": 3,
   "id": "df1d4bcb-8dc3-4431-8bee-15b4027e37ab",
   "metadata": {},
   "outputs": [],
   "source": [
    "# API Stands for application programming interface it is a set of protocols and definitions on how applications interact with each other.\n",
    "# APIs specify how software components interact and how they should communicate with each other.\n",
    "# api are used in web- application to connect with payment systems which are different applications \n",
    "# Weather api they interact with many applications simultaneously to bring precise wetaher\n",
    "# social media api and payment api"
   ]
  },
  {
   "cell_type": "code",
   "execution_count": null,
   "id": "622e1a16-a2d6-4bcf-ad65-d2172d7a29a3",
   "metadata": {},
   "outputs": [],
   "source": []
  },
  {
   "cell_type": "code",
   "execution_count": 5,
   "id": "7c67aeba-445f-4f95-bd6b-85ffba63b340",
   "metadata": {},
   "outputs": [],
   "source": [
    "# question 2"
   ]
  },
  {
   "cell_type": "code",
   "execution_count": 6,
   "id": "316abcc0-d50b-4540-82ef-6953d7ed786f",
   "metadata": {},
   "outputs": [],
   "source": [
    "# there are many advantages of using APIs but it also has some issues they are :\n",
    "# 1.Reusability \n",
    "# 2.Scalability\n",
    "# 3.Interoparability\n",
    "# 4.Innovation \n",
    "\n",
    "# # Disadvantages\n",
    "# 1.Security if not operated correctly\n",
    "# 2.Costly {if there are large number of users and applications }\n",
    "# 3.Complexity \n",
    "# 4.Stability \n",
    "# 5.Licensing\n",
    "\n"
   ]
  },
  {
   "cell_type": "code",
   "execution_count": 7,
   "id": "8a10c70a-93f3-4d16-9933-cd012370b40b",
   "metadata": {},
   "outputs": [],
   "source": [
    "# question -3"
   ]
  },
  {
   "cell_type": "code",
   "execution_count": 8,
   "id": "7c9086ac-7878-4e8d-9506-7a4c49149f02",
   "metadata": {},
   "outputs": [],
   "source": [
    "# Api are set of protocols and definition that guide how software applictaion using same language or different interact with each other.\n",
    "\n",
    "# WEB API\n",
    "# Web Api use http protocol to interact with other software it uses webservers  to communicate between client and server\n",
    "\n",
    "# Here are difference between APIS :\n",
    "# 1. API generally use different type of protocol such as HTTP, SOAP,REST,HTTPS, HERE webApi uses HTTP Protocol\n",
    "# 2.APIs can communicate in a variety of ways, such as through direct calls, message passing, or event-based communication.\n",
    "# Web APIs typically communicate through HTTP requests and responses.\n",
    "# 3.APIs can be located on a variety of servers, such as on-premises, in the cloud, or on a mobile device. Web APIs are typically located on web servers\n",
    "# 4.APIs can be secured using a variety of mechanisms, such as authentication, authorization, and encryption. \n",
    "# Web APIs are typically secured using the same mechanisms as web applications.\n",
    "\n",
    "# here are examples of api\n",
    "# 1.payment api\n",
    "# 2.web api\n",
    "# 3.social media api\n",
    "# 4.map api\n",
    "\n",
    "# Here are examples of WebApi\n",
    "# 1.google maps, twitter,fb,amazon"
   ]
  },
  {
   "cell_type": "code",
   "execution_count": null,
   "id": "880fe626-63a7-4dc2-bd47-f17bd458bf61",
   "metadata": {},
   "outputs": [],
   "source": []
  },
  {
   "cell_type": "code",
   "execution_count": 9,
   "id": "f6c4a679-76be-4b01-a655-72f784bdf2c3",
   "metadata": {},
   "outputs": [],
   "source": [
    "# question4/"
   ]
  },
  {
   "cell_type": "code",
   "execution_count": 10,
   "id": "9b19c782-2873-4756-adfa-e9a35f705c24",
   "metadata": {},
   "outputs": [
    {
     "ename": "SyntaxError",
     "evalue": "invalid syntax (3798312508.py, line 1)",
     "output_type": "error",
     "traceback": [
      "\u001b[0;36m  Cell \u001b[0;32mIn[10], line 1\u001b[0;36m\u001b[0m\n\u001b[0;31m    Sure. Here is a table that summarizes the key differences between REST and SOAP:\u001b[0m\n\u001b[0m                    ^\u001b[0m\n\u001b[0;31mSyntaxError\u001b[0m\u001b[0;31m:\u001b[0m invalid syntax\n"
     ]
    }
   ],
   "source": [
    "\n",
    "\n",
    "# REST (Representational State Transfer) is an architectural style for designing web services. \n",
    "# It uses HTTP verbs to define the different operations that can be performed on a resource, such as GET, POST, PUT, and DELETE.\n",
    "# RESTful APIs are often used to expose data from a database or to provide functionality to other applications.\n",
    "\n",
    "# features of rest and soap are \n",
    "# REST ;\n",
    "# uses :Http\n",
    "# communication: URI\n",
    "# DATA:json, xml\n",
    "# request : basic authentication, Api keys\n",
    "# structures : loosely formatied \n",
    "\n",
    "# SOAP:\n",
    "# USES : soap protocol\n",
    "# communication: xml messages\n",
    "# data: xml format only\n",
    "# structure: tightly coupled\n",
    "# request: Request response, one way\n",
    "\n",
    "# shorcomings of soap are :\n",
    "# 1, very complex than soap\n",
    "# 2.messages are large and slow to transmit \n",
    "# 3.Does not have many tools like rest \n",
    "\n",
    "\n"
   ]
  },
  {
   "cell_type": "code",
   "execution_count": null,
   "id": "518ebe6c-8411-4f04-8fcd-fa40ab864d17",
   "metadata": {},
   "outputs": [],
   "source": []
  }
 ],
 "metadata": {
  "kernelspec": {
   "display_name": "Python 3 (ipykernel)",
   "language": "python",
   "name": "python3"
  },
  "language_info": {
   "codemirror_mode": {
    "name": "ipython",
    "version": 3
   },
   "file_extension": ".py",
   "mimetype": "text/x-python",
   "name": "python",
   "nbconvert_exporter": "python",
   "pygments_lexer": "ipython3",
   "version": "3.10.8"
  }
 },
 "nbformat": 4,
 "nbformat_minor": 5
}
