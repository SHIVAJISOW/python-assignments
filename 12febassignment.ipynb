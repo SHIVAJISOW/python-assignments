{
 "cells": [
  {
   "cell_type": "code",
   "execution_count": 1,
   "id": "144a6d0d-47b5-44af-80fc-9afe7c041583",
   "metadata": {},
   "outputs": [],
   "source": [
    "# question - 1\n"
   ]
  },
  {
   "cell_type": "code",
   "execution_count": 2,
   "id": "281c79d2-c82b-40bf-b572-8a758497b32a",
   "metadata": {},
   "outputs": [],
   "source": [
    "# exception in python is used to check if the program is correct or not before excecuting if we use \n",
    "# exception during a program and write program inside exception it checks if the program is correct or not before total execution\n",
    "# while syntax error is the result that IDE gives after execution means the program that is written is syntacally not \n",
    "# correct means the way it is written in not present in language.|"
   ]
  },
  {
   "cell_type": "code",
   "execution_count": 3,
   "id": "49856408-fea6-4162-9b8a-3cb43de0027e",
   "metadata": {},
   "outputs": [
    {
     "name": "stdout",
     "output_type": "stream",
     "text": [
      "you cannot divide the above number \n"
     ]
    }
   ],
   "source": [
    "# eg\n",
    "def divide(x,y):\n",
    "    return x/y\n",
    "\n",
    "try:\n",
    "    divide(99/0)\n",
    "except ZeroDivisionError :\n",
    "    print(\"you cannot divide the above number \")"
   ]
  },
  {
   "cell_type": "code",
   "execution_count": 6,
   "id": "04fae1d0-0084-41da-bb73-f1b46a8787b2",
   "metadata": {},
   "outputs": [
    {
     "ename": "NameError",
     "evalue": "name 'ds' is not defined",
     "output_type": "error",
     "traceback": [
      "\u001b[0;31m---------------------------------------------------------------------------\u001b[0m",
      "\u001b[0;31mNameError\u001b[0m                                 Traceback (most recent call last)",
      "Cell \u001b[0;32mIn[6], line 4\u001b[0m\n\u001b[1;32m      1\u001b[0m \u001b[38;5;28;01mdef\u001b[39;00m \u001b[38;5;21mdivide\u001b[39m(x,y):\n\u001b[1;32m      2\u001b[0m     \u001b[38;5;28;01mreturn\u001b[39;00m x\u001b[38;5;241m/\u001b[39my\n\u001b[0;32m----> 4\u001b[0m divide(\u001b[38;5;241m10\u001b[39m,\u001b[43mds\u001b[49m)\n\u001b[1;32m      6\u001b[0m \u001b[38;5;66;03m# syntax error\u001b[39;00m\n",
      "\u001b[0;31mNameError\u001b[0m: name 'ds' is not defined"
     ]
    }
   ],
   "source": [
    "def divide(x,y):\n",
    "    return x/y\n",
    "\n",
    "divide(10,ds)\n",
    "\n",
    "# syntax error"
   ]
  },
  {
   "cell_type": "code",
   "execution_count": null,
   "id": "e1c663d5-e9b6-4b12-b6eb-eac4e9e2821f",
   "metadata": {},
   "outputs": [],
   "source": []
  },
  {
   "cell_type": "code",
   "execution_count": 7,
   "id": "2de3f41b-3499-4b40-a297-28640948a191",
   "metadata": {},
   "outputs": [],
   "source": [
    "# question -2"
   ]
  },
  {
   "cell_type": "code",
   "execution_count": 8,
   "id": "311f5f19-4e95-45f1-bb68-92720bd14d8c",
   "metadata": {},
   "outputs": [],
   "source": [
    "# IF exception is not handled the python interpreter look for exception if not found it will execute the program and if there is problem with\n",
    "# code it will crash "
   ]
  },
  {
   "cell_type": "code",
   "execution_count": 10,
   "id": "9d5d04be-9f4f-42e1-9d1e-90351ba73133",
   "metadata": {},
   "outputs": [
    {
     "ename": "NameError",
     "evalue": "name 'ds' is not defined",
     "output_type": "error",
     "traceback": [
      "\u001b[0;31m---------------------------------------------------------------------------\u001b[0m",
      "\u001b[0;31mNameError\u001b[0m                                 Traceback (most recent call last)",
      "Cell \u001b[0;32mIn[10], line 2\u001b[0m\n\u001b[1;32m      1\u001b[0m \u001b[38;5;28;01mfor\u001b[39;00m i \u001b[38;5;129;01min\u001b[39;00m \u001b[38;5;28mrange\u001b[39m(\u001b[38;5;241m2\u001b[39m,\u001b[38;5;241m10\u001b[39m):\n\u001b[0;32m----> 2\u001b[0m     \u001b[38;5;28mprint\u001b[39m(\u001b[43mds\u001b[49m)\n",
      "\u001b[0;31mNameError\u001b[0m: name 'ds' is not defined"
     ]
    }
   ],
   "source": [
    "for i in range(2,10):\n",
    "    print(ds)\n",
    "    \n",
    "see here syntax is wrong and program has been crashed "
   ]
  },
  {
   "cell_type": "code",
   "execution_count": 12,
   "id": "c1ad3624-5267-41d9-bbfd-149ebae4d0eb",
   "metadata": {},
   "outputs": [
    {
     "name": "stdout",
     "output_type": "stream",
     "text": [
      "name 'prisnt' is not defined\n"
     ]
    }
   ],
   "source": [
    "try:\n",
    "    for i in range(2,10):\n",
    "        prisnt(k)\n",
    "except Exception as e:\n",
    "    print(e)\n",
    "   \n",
    " # exception is handled "
   ]
  },
  {
   "cell_type": "code",
   "execution_count": null,
   "id": "5c1362fd-cc10-46d5-b0ab-f3a8ac5ea5fb",
   "metadata": {},
   "outputs": [],
   "source": []
  },
  {
   "cell_type": "code",
   "execution_count": 13,
   "id": "15f15241-66d2-4b7c-92b2-44d67abe0195",
   "metadata": {},
   "outputs": [],
   "source": [
    "# question - 3\n",
    "\n",
    "# try and except are 2 statement used in exception handling first try will initiate the exception and code is writen inside try and\n",
    "# except is used to handle excepion "
   ]
  },
  {
   "cell_type": "code",
   "execution_count": 20,
   "id": "301069e0-6966-4f04-a57f-59b0279fa170",
   "metadata": {},
   "outputs": [
    {
     "name": "stdout",
     "output_type": "stream",
     "text": [
      "an error has been occured \n"
     ]
    }
   ],
   "source": [
    "def shiva(a,b):\n",
    "     return a/c\n",
    "       \n",
    "try:\n",
    "    \n",
    "    shiva(10/0)\n",
    "except (ZeroDivisionError, ValueError):\n",
    "    print(\"an error has been occured \")\n",
    "       "
   ]
  },
  {
   "cell_type": "code",
   "execution_count": null,
   "id": "7dad1e04-09d2-4e86-af7b-e6f5fa45ec33",
   "metadata": {},
   "outputs": [],
   "source": []
  },
  {
   "cell_type": "code",
   "execution_count": 21,
   "id": "6accc5b6-0cfd-44f4-a5ab-fb2fa024522c",
   "metadata": {},
   "outputs": [],
   "source": [
    "# question - 4"
   ]
  },
  {
   "cell_type": "code",
   "execution_count": 30,
   "id": "b40b2139-1ad0-4742-8dbd-127a14c362d0",
   "metadata": {},
   "outputs": [
    {
     "name": "stdout",
     "output_type": "stream",
     "text": [
      "the error has been occured and it is zero division error\n",
      "This code will always execute!\n"
     ]
    }
   ],
   "source": [
    "def divide_numbers(x, y):\n",
    "     return x / y\n",
    "try:\n",
    "    divide_numbers(66/0)\n",
    "except ZeroDivisionError:\n",
    "    print(\"the error has been occured and it is zero division error\")\n",
    "else:\n",
    "    \n",
    "    print(\"No error occurred!\")\n",
    "finally:\n",
    "    print(\"This code will always execute!\")\n",
    "\n",
    "    \n",
    "# Here try and except are block of code that see that code is correct or not try initiates exception and except handles the exception and finally prints\n",
    "# regardless of exception  while raise is used to raise the exception "
   ]
  },
  {
   "cell_type": "code",
   "execution_count": null,
   "id": "692a40bb-c4bf-4cb8-a6c8-0394cb3f2978",
   "metadata": {},
   "outputs": [],
   "source": [
    "# question - 5"
   ]
  },
  {
   "cell_type": "code",
   "execution_count": null,
   "id": "cee4c282-ea31-44bf-b79f-d51fa5d4348e",
   "metadata": {},
   "outputs": [],
   "source": [
    "# custom exceptions are exceptions raise by programmer to raise specific errors "
   ]
  },
  {
   "cell_type": "code",
   "execution_count": 36,
   "id": "cf8830e8-177f-4993-8003-4c8a83ddf4cf",
   "metadata": {},
   "outputs": [],
   "source": [
    "class MyCustomException(Exception):\n",
    "    def __init__(self, message):\n",
    "        super().__init__(message)\n",
    "\n",
    "    def __str__(self):\n",
    "        return f\"MyCustomException: {self.message}\"\n",
    "\n",
    "def divide_numbers(x, y):\n",
    "    try:\n",
    "        if not isinstance(x, int):\n",
    "            raise MyCustomException(\"The x variable must be an integer!\")\n",
    "        return x / y\n",
    "    except MyCustomException as e:\n",
    "        print(e)\n",
    "\n"
   ]
  },
  {
   "cell_type": "code",
   "execution_count": 38,
   "id": "7df31531-56ed-446e-a9f8-ea6c13de9144",
   "metadata": {},
   "outputs": [],
   "source": []
  },
  {
   "cell_type": "code",
   "execution_count": 39,
   "id": "37ecd33f-f7f9-4c3b-bcf7-7bd89729251b",
   "metadata": {},
   "outputs": [
    {
     "name": "stdin",
     "output_type": "stream",
     "text": [
      "what is your age -4\n"
     ]
    },
    {
     "name": "stdout",
     "output_type": "stream",
     "text": [
      "you have entered wrong age\n"
     ]
    }
   ],
   "source": []
  },
  {
   "cell_type": "code",
   "execution_count": null,
   "id": "b1b14b7b-e097-4c1c-883d-3d62ffad2e11",
   "metadata": {},
   "outputs": [],
   "source": []
  },
  {
   "cell_type": "code",
   "execution_count": 40,
   "id": "9fdeb793-7fbb-487c-b4a2-9dc3287fa3c6",
   "metadata": {},
   "outputs": [],
   "source": [
    "# question - 6\n",
    "class validate(Exception):\n",
    "    def __init__(self,msg):\n",
    "        self.msg = msg\n",
    "    "
   ]
  },
  {
   "cell_type": "code",
   "execution_count": 41,
   "id": "b09366bf-c4f1-4a95-9bd1-8cbb4122d423",
   "metadata": {},
   "outputs": [],
   "source": [
    "def validate_age(age):\n",
    "    if age < 0:\n",
    "        raise validate (\"you have entered wrong age\")\n",
    "    elif age > 120:\n",
    "        raise validate (\"The age is beyond possibility\")\n",
    "    elif  age > 0 and age< 120:\n",
    "        raise validate (\"The age is correct \")\n",
    "    else:\n",
    "        raise validate(age)\n",
    "    "
   ]
  },
  {
   "cell_type": "code",
   "execution_count": null,
   "id": "a4eba0d4-b06b-41d1-be68-50b7f61ee871",
   "metadata": {},
   "outputs": [],
   "source": [
    "try:\n",
    "    age = int(input(\"what is your age\"))\n",
    "    validate_age(age)\n",
    "except Exception as e:\n",
    "    print(e)"
   ]
  },
  {
   "cell_type": "code",
   "execution_count": null,
   "id": "1a2adcc0-4a4c-4a92-9c3b-d92f0e2af5fb",
   "metadata": {},
   "outputs": [],
   "source": []
  }
 ],
 "metadata": {
  "kernelspec": {
   "display_name": "Python 3 (ipykernel)",
   "language": "python",
   "name": "python3"
  },
  "language_info": {
   "codemirror_mode": {
    "name": "ipython",
    "version": 3
   },
   "file_extension": ".py",
   "mimetype": "text/x-python",
   "name": "python",
   "nbconvert_exporter": "python",
   "pygments_lexer": "ipython3",
   "version": "3.10.8"
  }
 },
 "nbformat": 4,
 "nbformat_minor": 5
}
