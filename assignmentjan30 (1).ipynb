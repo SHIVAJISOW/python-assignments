{
 "cells": [
  {
   "cell_type": "markdown",
   "id": "a5dae3b0-92b0-4a5a-ba3e-3948b78b17ff",
   "metadata": {},
   "source": [
    "  ASSIGNMENT JAN 30           "
   ]
  },
  {
   "cell_type": "code",
   "execution_count": 2,
   "id": "03784fe6-e305-45a0-908e-d06c0a8659cb",
   "metadata": {},
   "outputs": [
    {
     "name": "stdin",
     "output_type": "stream",
     "text": [
      "what are marks of the students 44\n"
     ]
    },
    {
     "name": "stdout",
     "output_type": "stream",
     "text": [
      "GRADE (D)\n"
     ]
    }
   ],
   "source": [
    "# Q1\n",
    "Marks = int(input(\"what are marks of the students\"))\n",
    "\n",
    "if Marks>90 :\n",
    "    print(\"GRADE (A)\")\n",
    "elif Marks >= 80 and Marks <=90:\n",
    "    print(\"GRADE (B)\")\n",
    "elif Marks >= 60 and Marks <= 80:\n",
    "    print('GRADE (C)')\n",
    "else:\n",
    "    print(\"GRADE (D)\")"
   ]
  },
  {
   "cell_type": "code",
   "execution_count": 18,
   "id": "4030e666-b2f7-490e-b2cb-056958b5e644",
   "metadata": {},
   "outputs": [
    {
     "ename": "SyntaxError",
     "evalue": "invalid syntax. Perhaps you forgot a comma? (837724825.py, line 6)",
     "output_type": "error",
     "traceback": [
      "\u001b[0;36m  Cell \u001b[0;32mIn[18], line 6\u001b[0;36m\u001b[0m\n\u001b[0;31m    print (cost_price + cost_price +  cost price * 15/100)\u001b[0m\n\u001b[0m           ^\u001b[0m\n\u001b[0;31mSyntaxError\u001b[0m\u001b[0;31m:\u001b[0m invalid syntax. Perhaps you forgot a comma?\n"
     ]
    }
   ],
   "source": [
    "\n",
    "# QUESTION 2\n",
    "\n",
    "Cost_price = int(input(\"what is the cp of car\"))\n",
    "\n",
    "if Cost_price > 100000:\n",
    "    print (cost_price + cost_price +  cost price * 15/100)\n",
    "elif Cost_price >= 50000 and Cost_price <= 100000:\n",
    "    print(cost_price + cost_price * 10/100)\n",
    "else:\n",
    "    print( +cost_price + cost_price * 5/100)"
   ]
  },
  {
   "cell_type": "code",
   "execution_count": 16,
   "id": "8cf426f0-4a0a-4bf1-a4e5-428baecfe5b5",
   "metadata": {},
   "outputs": [
    {
     "name": "stdin",
     "output_type": "stream",
     "text": [
      "what is city name Hyderabad\n"
     ]
    },
    {
     "name": "stdout",
     "output_type": "stream",
     "text": [
      "INDIA IS A GREAT COUNTRY\n"
     ]
    }
   ],
   "source": [
    "# Q3\n",
    "\n",
    "CITY = input(\"what is city name\")\n",
    "\n",
    "if CITY == \"Delhi\":\n",
    "    print(\"Redfort\")\n",
    "elif CITY == \"Agra\":\n",
    "    print(\"Taj Mahal\")\n",
    "elif CITY == \"Jaipur\":\n",
    "    print(\"Jai Mahal\")\n",
    "else:\n",
    "    print(\"INDIA IS A GREAT COUNTRY\")\n",
    "\n"
   ]
  },
  {
   "cell_type": "code",
   "execution_count": null,
   "id": "d30c16cf-1465-4137-8570-d415a52b9fba",
   "metadata": {},
   "outputs": [],
   "source": []
  },
  {
   "cell_type": "markdown",
   "id": "185e4d92-d00d-413b-96ad-cf7bba5628dc",
   "metadata": {},
   "source": [
    "# Q5\n",
    "\n",
    "loops and while loops are used  in python to run a block of code which has to meet certain condition and it is used for iterating  code. In while loop first  condition is checked if condition is true then code is run if condition is false  code  cannot run.\n",
    "\n",
    "down is example of code"
   ]
  },
  {
   "cell_type": "code",
   "execution_count": 17,
   "id": "99cc30e4-8c79-4f73-8b73-9c258f7f74b5",
   "metadata": {},
   "outputs": [
    {
     "name": "stdout",
     "output_type": "stream",
     "text": [
      "1\n",
      "2\n",
      "3\n",
      "4\n",
      "5\n",
      "6\n",
      "7\n"
     ]
    }
   ],
   "source": [
    "# example of while loop\n",
    "\n",
    "i = 1\n",
    "\n",
    "while i <8:\n",
    "    print (i)\n",
    "    i = i+ 1"
   ]
  },
  {
   "cell_type": "code",
   "execution_count": null,
   "id": "b669308d-1f94-46c6-959f-71f41187121b",
   "metadata": {},
   "outputs": [],
   "source": []
  },
  {
   "cell_type": "markdown",
   "id": "e9746e60-1910-4732-859b-87afbfd11fb3",
   "metadata": {},
   "source": [
    "Q6"
   ]
  },
  {
   "cell_type": "code",
   "execution_count": 22,
   "id": "497a459d-239a-4166-a57a-61b251c104c6",
   "metadata": {},
   "outputs": [
    {
     "name": "stdout",
     "output_type": "stream",
     "text": [
      "\n",
      "1\n",
      "22\n",
      "333\n",
      "4444\n",
      "55555\n",
      "666666\n"
     ]
    }
   ],
   "source": [
    "# use nested loop to find three different patterns  PATTERN1\n",
    "\n",
    "rows = 7\n",
    "\n",
    "for i in range(rows):\n",
    "    for j in range(i):\n",
    "        print(i,end= \"\")\n",
    "    print(\"\")        "
   ]
  },
  {
   "cell_type": "code",
   "execution_count": 24,
   "id": "461c043a-698f-4044-ad82-d74aff3ffb8c",
   "metadata": {},
   "outputs": [
    {
     "name": "stdout",
     "output_type": "stream",
     "text": [
      "1\n",
      "12\n",
      "123\n",
      "1234\n",
      "12345\n"
     ]
    }
   ],
   "source": [
    "# PATTERN 2\n",
    "\n",
    "rows = 5\n",
    "for i in range(1, rows +1):\n",
    "    for j in range (1,i +1):\n",
    "        print(j , end = \"\")\n",
    "    print(\"\")    "
   ]
  },
  {
   "cell_type": "code",
   "execution_count": 25,
   "id": "7c074ba1-9431-4ee2-bb82-3581c32f082f",
   "metadata": {},
   "outputs": [
    {
     "name": "stdout",
     "output_type": "stream",
     "text": [
      "11111\n",
      "2222\n",
      "333\n",
      "44\n",
      "5\n"
     ]
    }
   ],
   "source": [
    "#PATTERN 3\n",
    "\n",
    "rows = 5\n",
    "b = 0\n",
    "\n",
    "for i in range(rows,0,-1):\n",
    "    b += 1 \n",
    "    for j in range(1, i +1):\n",
    "        print(b, end = \"\")\n",
    "    print(\"\\r\")    \n",
    "    \n"
   ]
  },
  {
   "cell_type": "markdown",
   "id": "a8428c77-de7c-4faf-82f1-3421d2cfa89a",
   "metadata": {},
   "source": [
    "Q7"
   ]
  },
  {
   "cell_type": "code",
   "execution_count": null,
   "id": "066373aa-3a6e-49a6-a04a-eb669fbed6bb",
   "metadata": {},
   "outputs": [],
   "source": [
    "i ="
   ]
  }
 ],
 "metadata": {
  "kernelspec": {
   "display_name": "Python 3 (ipykernel)",
   "language": "python",
   "name": "python3"
  },
  "language_info": {
   "codemirror_mode": {
    "name": "ipython",
    "version": 3
   },
   "file_extension": ".py",
   "mimetype": "text/x-python",
   "name": "python",
   "nbconvert_exporter": "python",
   "pygments_lexer": "ipython3",
   "version": "3.10.8"
  }
 },
 "nbformat": 4,
 "nbformat_minor": 5
}
