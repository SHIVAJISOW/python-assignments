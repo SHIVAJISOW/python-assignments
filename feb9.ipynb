{
 "cells": [
  {
   "cell_type": "code",
   "execution_count": 1,
   "id": "efb8c7f8-13bb-4c7a-8889-e3b8d050ebac",
   "metadata": {},
   "outputs": [],
   "source": [
    "# Q1, Create a vehicle class with an init method having instance variables as name_of_vehicle, max_speed\n",
    "# and average_of_vehicle. "
   ]
  },
  {
   "cell_type": "code",
   "execution_count": 2,
   "id": "8b8a7181-b158-480c-8cb0-5b9384b51fba",
   "metadata": {},
   "outputs": [],
   "source": [
    "# Init method used in oops concept is like storage box where using init we can initialieze the function in class\n",
    "# and store instances."
   ]
  },
  {
   "cell_type": "code",
   "execution_count": 20,
   "id": "2f4fc3f5-21f9-4b5a-b5e3-e086a428dd21",
   "metadata": {},
   "outputs": [],
   "source": [
    "class vehicle:\n",
    "    def __init__(self, model, max_speed, weight):\n",
    "        self.model = model\n",
    "        self.max_speed = max_speed\n",
    "        self.weight = weight\n",
    "        \n",
    "    def vehicle_value(self):\n",
    "        return (self.max_speed,self.model, self.weight)"
   ]
  },
  {
   "cell_type": "code",
   "execution_count": 21,
   "id": "00a47c5f-035a-4706-b557-b68e56c3448d",
   "metadata": {},
   "outputs": [],
   "source": [
    "car = vehicle(\"BENZZ\", 2034 , 45000)"
   ]
  },
  {
   "cell_type": "code",
   "execution_count": 22,
   "id": "be7151d5-5d18-4770-9b9e-edebeeff05cf",
   "metadata": {},
   "outputs": [
    {
     "data": {
      "text/plain": [
       "(2034, 'BENZZ', 45000)"
      ]
     },
     "execution_count": 22,
     "metadata": {},
     "output_type": "execute_result"
    }
   ],
   "source": [
    "car.vehicle_value()"
   ]
  },
  {
   "cell_type": "code",
   "execution_count": 23,
   "id": "ac864272-6d85-47a5-af2b-b678515252ed",
   "metadata": {},
   "outputs": [
    {
     "data": {
      "text/plain": [
       "2034"
      ]
     },
     "execution_count": 23,
     "metadata": {},
     "output_type": "execute_result"
    }
   ],
   "source": [
    "car.max_speed"
   ]
  },
  {
   "cell_type": "code",
   "execution_count": 24,
   "id": "856d7e44-5d2f-4446-b062-e2680b18e8e9",
   "metadata": {},
   "outputs": [
    {
     "data": {
      "text/plain": [
       "'BENZZ'"
      ]
     },
     "execution_count": 24,
     "metadata": {},
     "output_type": "execute_result"
    }
   ],
   "source": [
    "car.model"
   ]
  },
  {
   "cell_type": "code",
   "execution_count": 25,
   "id": "1f4ec3ea-5d78-420c-9b61-1b479920763c",
   "metadata": {},
   "outputs": [
    {
     "data": {
      "text/plain": [
       "45000"
      ]
     },
     "execution_count": 25,
     "metadata": {},
     "output_type": "execute_result"
    }
   ],
   "source": [
    "car.weight"
   ]
  },
  {
   "cell_type": "code",
   "execution_count": null,
   "id": "005675a8-b4ac-496a-845c-63208725897b",
   "metadata": {},
   "outputs": [],
   "source": []
  },
  {
   "cell_type": "code",
   "execution_count": 26,
   "id": "92657c4d-2410-432f-a2a7-12cedce4009b",
   "metadata": {},
   "outputs": [],
   "source": [
    "# Q2.  Create a child class car from the vehicle class created in Que 1, which will inherit the vehicle class.\n",
    "# Create a method named seating_capacity which takes capacity as an argument and returns the name of\n",
    "# the vehicle and its seating capacity."
   ]
  },
  {
   "cell_type": "code",
   "execution_count": 27,
   "id": "28ed1e45-0980-4134-a87a-7a8594e36b8c",
   "metadata": {},
   "outputs": [],
   "source": [
    "# Just like child inherits the qualities of the parents. In same way when One class calls the other class \n",
    "# into its function it inherits the previous class.\n"
   ]
  },
  {
   "cell_type": "code",
   "execution_count": 31,
   "id": "eb175d55-0fa6-4f80-90fc-bb6efb187a79",
   "metadata": {},
   "outputs": [],
   "source": [
    "class vehicle:\n",
    "    def __init__(self, model, max_speed, weight):\n",
    "        self.model = model\n",
    "        self.max_speed = max_speed\n",
    "        self.weight = weight\n",
    "        \n",
    "    def vehicle_value(self):\n",
    "        return (self.max_speed,self.model, self.weight)"
   ]
  },
  {
   "cell_type": "code",
   "execution_count": 33,
   "id": "52d07c9e-7e21-42e1-839a-7aa7dd608a2c",
   "metadata": {},
   "outputs": [],
   "source": [
    "class Car(vehicle):\n",
    "    def seating_capacity(self, capacity):\n",
    "        return f\"{self.model} has a seating capacity of {capacity} people.\"\n"
   ]
  },
  {
   "cell_type": "code",
   "execution_count": 48,
   "id": "73de5392-d208-4996-aa80-a0a7673d0405",
   "metadata": {},
   "outputs": [
    {
     "name": "stdout",
     "output_type": "stream",
     "text": [
      "ROLLS ROYCE has a seating capacity of 5 people.\n"
     ]
    }
   ],
   "source": [
    "car = Car(\"ROLLS ROYCE\", 200, 80)\n",
    "print(car.seating_capacity(5))"
   ]
  },
  {
   "cell_type": "code",
   "execution_count": null,
   "id": "169a3c49-6fb8-406e-9593-5c7abea92145",
   "metadata": {},
   "outputs": [],
   "source": []
  },
  {
   "cell_type": "code",
   "execution_count": null,
   "id": "15c8fb83-d83c-4cfd-9b91-1cea43c9aa31",
   "metadata": {},
   "outputs": [],
   "source": [
    "# Q3. What is multiple inheritance? Write a python code to demonstrate multiple inheritance"
   ]
  },
  {
   "cell_type": "code",
   "execution_count": 86,
   "id": "0c2e3e14-a556-4e8f-8bcb-140ad2974644",
   "metadata": {},
   "outputs": [],
   "source": [
    "# multiple inheritence means where one class inherits form 2 parent classes\n",
    "\n",
    "class Father:\n",
    "    def dad(self):\n",
    "        return \"this is awesome\"\n",
    "    \n",
    "class Mother:\n",
    "    def mom(self):\n",
    "        return \"this is crazy\"\n",
    "    \n",
    "        \n",
    "class child(Father, Mother):\n",
    "    pass\n",
    "    \n",
    "   \n",
    "        \n",
    "    \n",
    "        "
   ]
  },
  {
   "cell_type": "code",
   "execution_count": 88,
   "id": "42ef00d1-d490-4a17-8a48-d4ec346988a3",
   "metadata": {},
   "outputs": [],
   "source": [
    "r = child()"
   ]
  },
  {
   "cell_type": "code",
   "execution_count": 91,
   "id": "0e125b71-7209-4aef-a044-2778a7d1bb5f",
   "metadata": {},
   "outputs": [
    {
     "data": {
      "text/plain": [
       "'this is crazy'"
      ]
     },
     "execution_count": 91,
     "metadata": {},
     "output_type": "execute_result"
    }
   ],
   "source": [
    "r.mom()"
   ]
  },
  {
   "cell_type": "code",
   "execution_count": 93,
   "id": "07f98b3e-75d8-45a2-9b48-544e1894c654",
   "metadata": {},
   "outputs": [
    {
     "data": {
      "text/plain": [
       "'this is awesome'"
      ]
     },
     "execution_count": 93,
     "metadata": {},
     "output_type": "execute_result"
    }
   ],
   "source": [
    "r.dad()"
   ]
  },
  {
   "cell_type": "code",
   "execution_count": null,
   "id": "196a1104-56c0-4a37-a312-8483433905c0",
   "metadata": {},
   "outputs": [],
   "source": [
    "# Q4. What are getter and setter in python? Create a class and create a getter and a setter method in this\n",
    "# class."
   ]
  },
  {
   "cell_type": "code",
   "execution_count": null,
   "id": "78a2267e-c6cf-48cf-8b9b-97513828e90d",
   "metadata": {},
   "outputs": [],
   "source": [
    "# in python getter and setter are used to modify the attributes. While getter method return the attribute and setter \n",
    "# method allow you to set the attribute"
   ]
  },
  {
   "cell_type": "code",
   "execution_count": 104,
   "id": "35908634-3e18-44c8-8c6b-8506ad23ff52",
   "metadata": {},
   "outputs": [],
   "source": [
    "# class Person:\n",
    "#     def __init__(self, name, age):\n",
    "#         self.name = name\n",
    "#         self.age = age\n",
    "\n",
    "#     def get_age(self):\n",
    "#         return self.age\n",
    "\n",
    "#     def set_age(self, age):\n",
    "#         if age > 0 and age < 130:\n",
    "#             self.age = age\n",
    "#         else:\n",
    "#             print(\"Invalid age\")\n",
    "\n",
    "# person = Person(\"John\", 25)\n",
    "# print(person.get_age()) # Output: 25\n",
    "# person.set_age(30)\n",
    "# print(person.get_age()) # Output: 30\n",
    "# person.set_age(-2) # Output: Invalid age\n",
    "\n",
    "class Person:\n",
    "    def __init__(self, name, age):\n",
    "        self.name = name\n",
    "        self.age = age \n",
    "        \n",
    "    def get_age(self):\n",
    "        return self.age\n",
    "    \n",
    "    def set_age(self,age):\n",
    "        if age > 0 and age<150 :\n",
    "            self.age = age \n",
    "        else:\n",
    "            print(\"this is an invalid\")\n"
   ]
  },
  {
   "cell_type": "code",
   "execution_count": 105,
   "id": "749f6f07-a0e2-4c0c-8f29-6de78fb49ea8",
   "metadata": {},
   "outputs": [
    {
     "ename": "SyntaxError",
     "evalue": "invalid syntax. Perhaps you forgot a comma? (1393809750.py, line 1)",
     "output_type": "error",
     "traceback": [
      "\u001b[0;36m  Cell \u001b[0;32mIn[105], line 1\u001b[0;36m\u001b[0m\n\u001b[0;31m    person = Person(\"shankar\" 44)\u001b[0m\n\u001b[0m                    ^\u001b[0m\n\u001b[0;31mSyntaxError\u001b[0m\u001b[0;31m:\u001b[0m invalid syntax. Perhaps you forgot a comma?\n"
     ]
    }
   ],
   "source": [
    "person = Person(\"shankar\" 44)"
   ]
  },
  {
   "cell_type": "code",
   "execution_count": null,
   "id": "05013706-c6ba-490d-93dc-e6f092e8348a",
   "metadata": {},
   "outputs": [],
   "source": []
  },
  {
   "cell_type": "code",
   "execution_count": null,
   "id": "7e95990c-639d-4e36-bb90-9b109b49aa6c",
   "metadata": {},
   "outputs": [],
   "source": []
  },
  {
   "cell_type": "code",
   "execution_count": null,
   "id": "4d0c00f8-0ef2-432d-8d9c-1648f3400062",
   "metadata": {},
   "outputs": [],
   "source": [
    "# Q5.What is method overriding in python? Write a python code to demonstrate method overriding."
   ]
  },
  {
   "cell_type": "code",
   "execution_count": 94,
   "id": "a658a52c-0365-4fb7-bd31-1c64a6ae625c",
   "metadata": {},
   "outputs": [],
   "source": [
    "# overiding is a concept in oops where child class though inherits properties from parent class it acts on its own "
   ]
  },
  {
   "cell_type": "code",
   "execution_count": 97,
   "id": "4ca64c3c-2d3e-442d-826d-6e77b8f339a8",
   "metadata": {},
   "outputs": [],
   "source": [
    "class Father:\n",
    "    def dad(self):\n",
    "        return \"the gender of children\"\n",
    "\n",
    "class Child1(Father):\n",
    "    def son(self):\n",
    "        return \"my name is rohan im a boy\"\n",
    "    \n",
    "class Child2(Father):\n",
    "    def daughter(self):\n",
    "        return \"my name is akshara im a girl\"\n",
    "        \n",
    "    "
   ]
  },
  {
   "cell_type": "code",
   "execution_count": 99,
   "id": "8cf4739e-e226-4f87-880c-116a5e6a10d5",
   "metadata": {},
   "outputs": [],
   "source": [
    "Son = Child1()"
   ]
  },
  {
   "cell_type": "code",
   "execution_count": 101,
   "id": "ef4a3c44-eb7e-4c92-a0f0-a2aa59fcec21",
   "metadata": {},
   "outputs": [
    {
     "data": {
      "text/plain": [
       "'my name is rohan im a boy'"
      ]
     },
     "execution_count": 101,
     "metadata": {},
     "output_type": "execute_result"
    }
   ],
   "source": [
    "Son.son()\n"
   ]
  },
  {
   "cell_type": "code",
   "execution_count": 102,
   "id": "56856d56-e0d8-47d6-8c3f-09d6c233dcbd",
   "metadata": {},
   "outputs": [],
   "source": [
    "D = Child2()\n"
   ]
  },
  {
   "cell_type": "code",
   "execution_count": 103,
   "id": "cfff4e89-3270-4f18-9e58-7b4cccf736c2",
   "metadata": {},
   "outputs": [
    {
     "data": {
      "text/plain": [
       "'my name is akshara im a girl'"
      ]
     },
     "execution_count": 103,
     "metadata": {},
     "output_type": "execute_result"
    }
   ],
   "source": [
    "D.daughter()"
   ]
  },
  {
   "cell_type": "code",
   "execution_count": null,
   "id": "8e774349-dbb8-4e6e-8477-7c9562345723",
   "metadata": {},
   "outputs": [],
   "source": []
  }
 ],
 "metadata": {
  "kernelspec": {
   "display_name": "Python 3 (ipykernel)",
   "language": "python",
   "name": "python3"
  },
  "language_info": {
   "codemirror_mode": {
    "name": "ipython",
    "version": 3
   },
   "file_extension": ".py",
   "mimetype": "text/x-python",
   "name": "python",
   "nbconvert_exporter": "python",
   "pygments_lexer": "ipython3",
   "version": "3.10.8"
  }
 },
 "nbformat": 4,
 "nbformat_minor": 5
}
