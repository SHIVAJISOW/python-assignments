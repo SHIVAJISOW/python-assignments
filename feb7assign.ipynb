{
 "cells": [
  {
   "cell_type": "code",
   "execution_count": 3,
   "id": "b5adecbc-5712-4ba5-91b0-69af799093de",
   "metadata": {},
   "outputs": [],
   "source": [
    "\n",
    "\n",
    "import logging \n",
    "logging.basicConfig(filename = \"test.txt\" , level = logging.INFO )\n"
   ]
  },
  {
   "cell_type": "code",
   "execution_count": 7,
   "id": "129e0eb2-06a4-4b84-b371-98bbdf678613",
   "metadata": {},
   "outputs": [
    {
     "name": "stdin",
     "output_type": "stream",
     "text": [
      "what is the passoword of lock jsfjdk\n"
     ]
    }
   ],
   "source": []
  },
  {
   "cell_type": "code",
   "execution_count": 10,
   "id": "1a07461a-c619-4ba1-8be4-a0029790d242",
   "metadata": {},
   "outputs": [
    {
     "name": "stdin",
     "output_type": "stream",
     "text": [
      "what is the password jdsfjl\n"
     ]
    }
   ],
   "source": []
  },
  {
   "cell_type": "code",
   "execution_count": 12,
   "id": "0120e600-504d-4a76-9514-4c32a1d90bfb",
   "metadata": {},
   "outputs": [
    {
     "name": "stdin",
     "output_type": "stream",
     "text": [
      "what is the password royal\n"
     ]
    }
   ],
   "source": [
    "password = input(\"what is the password\")\n",
    "\n",
    "import re \n",
    "\n",
    "\n",
    "def check_password(password):\n",
    "   \n",
    "    if len(password) != 10 or len(password) > 10 :\n",
    "        return \"invalid password\"\n",
    "    \n",
    "    if not re.search(r'[A-Z].*[A-Z]', password) or not re.search(r'[a-z].*[a-z]', password):\n",
    "        return \"invalid password\"\n",
    "    \n",
    "    if not re.search(r'\\d' , password) or not re.findall(r'[!@#$%^&*()_+?><:\"]', password):\n",
    "        return \"invalid password\"\n",
    "    \n",
    "    \n",
    "    \n",
    "    return \"valid password\"\n",
    "    \n",
    "    \n",
    "    \n",
    "    "
   ]
  },
  {
   "cell_type": "code",
   "execution_count": 14,
   "id": "3787f86e-817c-4bdd-ab1d-608a8fd9deb2",
   "metadata": {},
   "outputs": [
    {
     "name": "stdin",
     "output_type": "stream",
     "text": [
      "what is the password ROman!@12#\n"
     ]
    },
    {
     "name": "stdout",
     "output_type": "stream",
     "text": [
      "valid password\n"
     ]
    }
   ],
   "source": [
    "password = input(\"what is the password\")\n",
    "\n",
    "print(check_password(password))"
   ]
  },
  {
   "cell_type": "code",
   "execution_count": null,
   "id": "b4603c60-29e4-40b0-a2ac-fb8484081f28",
   "metadata": {},
   "outputs": [],
   "source": []
  },
  {
   "cell_type": "code",
   "execution_count": 13,
   "id": "05e7447a-a6c0-4581-9cbc-161cefc98830",
   "metadata": {},
   "outputs": [
    {
     "data": {
      "text/plain": [
       "False"
      ]
     },
     "execution_count": 13,
     "metadata": {},
     "output_type": "execute_result"
    }
   ],
   "source": [
    "# question 2 \n",
    "check_start_K = lambda string : string.startswith(\"K\")\n",
    "\n",
    "result = check_start_K(\"SHANKRA\")\n",
    "result\n",
    "\n"
   ]
  },
  {
   "cell_type": "code",
   "execution_count": 18,
   "id": "f487ab35-e94e-4eba-8daa-a7fabb0ea838",
   "metadata": {},
   "outputs": [
    {
     "name": "stdout",
     "output_type": "stream",
     "text": [
      "True\n",
      "False\n"
     ]
    }
   ],
   "source": [
    "is_numeric = lambda s:s.isdigit()\n",
    "\n",
    "print(is_numeric(\"12345\"))\n",
    "print(is_numeric(\"pwskills\"))"
   ]
  },
  {
   "cell_type": "code",
   "execution_count": 1,
   "id": "ba1e3501-64ae-49ab-b2ba-ef5f61d6d2ea",
   "metadata": {},
   "outputs": [
    {
     "name": "stdout",
     "output_type": "stream",
     "text": [
      "[('orange', 80), ('mango', 99), ('grapes', 1000)]\n"
     ]
    }
   ],
   "source": [
    "# sorting tuples using  lambda function \n",
    "fruits = [(\"mango\",99),(\"orange\",80),(\"grapes\", 1000)]\n",
    "sorted_fruits = sorted(fruits, key=lambda x:x[1]) \n",
    "\n",
    "print(sorted_fruits)\n"
   ]
  },
  {
   "cell_type": "code",
   "execution_count": 3,
   "id": "4bd0066e-1a10-4ceb-b0f3-bd01a7fce702",
   "metadata": {},
   "outputs": [
    {
     "name": "stdout",
     "output_type": "stream",
     "text": [
      "[1, 4, 9, 16, 25, 36, 49, 64, 81, 100]\n"
     ]
    }
   ],
   "source": [
    "# squares of number using list_comprehension  1 to 10 \n",
    "\n",
    "squares = [x ** 2 for x in range (1,11)]\n",
    "print(squares)"
   ]
  },
  {
   "cell_type": "code",
   "execution_count": 12,
   "id": "91cfbed7-12e9-4948-b369-732a8f5b2988",
   "metadata": {},
   "outputs": [
    {
     "name": "stdout",
     "output_type": "stream",
     "text": [
      "[1, 8, 27, 64, 125, 216, 343, 512, 729, 1000]\n"
     ]
    }
   ],
   "source": [
    "# cubes using lambda \n",
    "\n",
    "cubes = list(map(lambda x : x**3 , range(1,11)))\n",
    "\n",
    "print(cubes)"
   ]
  },
  {
   "cell_type": "code",
   "execution_count": null,
   "id": "e71f5247-1448-42d6-b519-f057b9c7c022",
   "metadata": {},
   "outputs": [],
   "source": []
  },
  {
   "cell_type": "code",
   "execution_count": 23,
   "id": "30b92fbe-8a0c-4502-a555-6e2ee09aa39d",
   "metadata": {},
   "outputs": [
    {
     "name": "stdout",
     "output_type": "stream",
     "text": [
      "33 is odd\n"
     ]
    }
   ],
   "source": [
    "# check the given number is even \n",
    "number = 33\n",
    "\n",
    "\n",
    "is_even = list(filter(lambda x:x % 2 == 0 , [number]))\n",
    "\n",
    "if is_even :\n",
    "    print(f\"{number} is even\")\n",
    "else :\n",
    "    print(f\"{number} is odd\")\n",
    "    "
   ]
  },
  {
   "cell_type": "code",
   "execution_count": 24,
   "id": "9c4b00cf-24ce-40f5-85ef-1696a4f8d303",
   "metadata": {},
   "outputs": [
    {
     "name": "stdout",
     "output_type": "stream",
     "text": [
      "[1, 3, 5, 7, 9]\n"
     ]
    }
   ],
   "source": [
    "# fitlering odd numbers from list\n",
    "\n",
    "numbers =  [1,2,3,4,5,6,7,8,9,10]\n",
    "\n",
    "odd_numbers = list(filter(lambda x : x % 2 != 0 , numbers))\n",
    "\n",
    "print(odd_numbers)\n"
   ]
  },
  {
   "cell_type": "code",
   "execution_count": null,
   "id": "3c43d7ec-7fe8-4383-bd89-da10edd2963d",
   "metadata": {},
   "outputs": [],
   "source": [
    "nums = [1,2,3,4,5,6,-1,-2,-3,-4,-5,0]\n",
    "\n",
    "positive_num = [num for num in nums if num > 0]\n",
    "negative_num = [num for num in nums if num < 0]\n",
    "\n"
   ]
  }
 ],
 "metadata": {
  "kernelspec": {
   "display_name": "Python 3 (ipykernel)",
   "language": "python",
   "name": "python3"
  },
  "language_info": {
   "codemirror_mode": {
    "name": "ipython",
    "version": 3
   },
   "file_extension": ".py",
   "mimetype": "text/x-python",
   "name": "python",
   "nbconvert_exporter": "python",
   "pygments_lexer": "ipython3",
   "version": "3.10.8"
  }
 },
 "nbformat": 4,
 "nbformat_minor": 5
}
